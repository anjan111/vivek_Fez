{
 "cells": [
  {
   "cell_type": "code",
   "execution_count": null,
   "metadata": {},
   "outputs": [],
   "source": [
    "# Dict datatype properties \n",
    "\n",
    "# ----> dict is a sequential daatatype\n",
    "# ----> we can store group of items with in the curly braces  { }\n",
    "# ----> The item is a combination of key and values   key : value\n",
    "# ----> Dict datatype is unordered datatype (items can jumbled) \n",
    "# ----> we can't access the items using indexing ( 0 to len-1)\n",
    "# ----> we can access the values using keys ---> keyindexing\n",
    "# ----> It can removes the duplicate key items "
   ]
  },
  {
   "cell_type": "code",
   "execution_count": 1,
   "metadata": {},
   "outputs": [
    {
     "name": "stdout",
     "output_type": "stream",
     "text": [
      "{12: 'soc', 45: 'soft', 56: 'ech'}\n",
      "<class 'dict'>\n",
      "195985098288\n",
      "3\n",
      "113\n",
      "56\n",
      "12\n"
     ]
    }
   ],
   "source": [
    "var = {12 : \"soc\" , 45 : \"soft\" , 56 : \"ech\"}\n",
    "print(var)\n",
    "print(type(var))\n",
    "print(id(var))\n",
    "print(len(var))\n",
    "print(sum(var))\n",
    "print(max(var))\n",
    "print(min(var))"
   ]
  },
  {
   "cell_type": "code",
   "execution_count": 2,
   "metadata": {},
   "outputs": [
    {
     "data": {
      "text/plain": [
       "{12: 'new', 34: 'v1', 45: 'v1'}"
      ]
     },
     "execution_count": 2,
     "metadata": {},
     "output_type": "execute_result"
    }
   ],
   "source": [
    "var = {12 : 'v' , 34 : \"v1\" , 45 : \"v1\" , 12:\"new\"}\n",
    "var"
   ]
  },
  {
   "cell_type": "code",
   "execution_count": 5,
   "metadata": {},
   "outputs": [
    {
     "name": "stdout",
     "output_type": "stream",
     "text": [
      "dict_keys([12, 45, 56])\n",
      "dict_values(['s', 'o ', 'c'])\n",
      "dict_items([(12, 's'), (45, 'o '), (56, 'c')])\n"
     ]
    }
   ],
   "source": [
    "#dict---> methodes ---> dict manipulation methods\n",
    "var = {12 : \"s\" , 45 : \"o \" , 56 :\"c\"}\n",
    "print(var.keys())# 12,45,56\n",
    "print(var.values())\n",
    "print(var.items())"
   ]
  },
  {
   "cell_type": "code",
   "execution_count": 18,
   "metadata": {},
   "outputs": [
    {
     "name": "stdout",
     "output_type": "stream",
     "text": [
      "o \n",
      "{12: 's', 45: 'o ', 56: 'c'}\n",
      "o \n",
      "{12: 's', 56: 'c'}\n"
     ]
    }
   ],
   "source": [
    "var = {12 : \"s\" , 45 : \"o \" , 56 :\"c\"}\n",
    "print(var.get(45))\n",
    "print(var)\n",
    "print(var.pop(45))\n",
    "print(var)\n"
   ]
  },
  {
   "cell_type": "code",
   "execution_count": 19,
   "metadata": {},
   "outputs": [
    {
     "name": "stdout",
     "output_type": "stream",
     "text": [
      "(56, 'c')\n",
      "{12: 's', 45: 'o '}\n"
     ]
    }
   ],
   "source": [
    "var = {12 : \"s\" , 45 : \"o \" , 56 :\"c\"}\n",
    "print(var.popitem())\n",
    "print(var)\n"
   ]
  },
  {
   "cell_type": "code",
   "execution_count": 20,
   "metadata": {},
   "outputs": [
    {
     "name": "stdout",
     "output_type": "stream",
     "text": [
      "{12: 's', 45: 'o ', 56: 'c'}\n",
      "{90: 'r', 12: 's', 45: 'o ', 56: 'c'}\n"
     ]
    }
   ],
   "source": [
    "var = {12 : \"s\" , 45 : \"o \" , 56 :\"c\"}\n",
    "b = {90:\"r\"}\n",
    "b.update(var)\n",
    "print(var)\n",
    "print(b)"
   ]
  },
  {
   "cell_type": "code",
   "execution_count": 21,
   "metadata": {},
   "outputs": [
    {
     "name": "stdout",
     "output_type": "stream",
     "text": [
      "{12: 's', 45: 'o ', 56: 'c'}\n",
      "{12: 's', 45: 'o ', 56: 'c'}\n",
      "{12: 's', 45: 'o ', 56: 'c'}\n",
      "{12: 's', 45: 'o ', 56: 'c', 100: '123'}\n"
     ]
    }
   ],
   "source": [
    "var = {12 : \"s\" , 45 : \"o \" , 56 :\"c\"}\n",
    "b = {90:\"r\"}\n",
    "b = var.copy()\n",
    "print(var)\n",
    "print(b)\n",
    "b[100] = \"123\"\n",
    "print(var)\n",
    "print(b)"
   ]
  },
  {
   "cell_type": "code",
   "execution_count": 22,
   "metadata": {},
   "outputs": [
    {
     "name": "stdout",
     "output_type": "stream",
     "text": [
      "{12: 's', 45: 'o ', 56: 'c'}\n",
      "{12: 's', 45: 'o ', 56: 'c'}\n",
      "{12: 's', 45: 'o ', 56: 'c', 100: '123'}\n",
      "{12: 's', 45: 'o ', 56: 'c', 100: '123'}\n"
     ]
    }
   ],
   "source": [
    "var = {12 : \"s\" , 45 : \"o \" , 56 :\"c\"}\n",
    "b = {90:\"r\"}\n",
    "b = var\n",
    "print(var)\n",
    "print(b)\n",
    "b[100] = \"123\"\n",
    "print(var)\n",
    "print(b)"
   ]
  },
  {
   "cell_type": "code",
   "execution_count": 23,
   "metadata": {},
   "outputs": [
    {
     "name": "stdout",
     "output_type": "stream",
     "text": [
      "{12: 's', 45: 'o ', 56: 'c'}\n",
      "{}\n"
     ]
    }
   ],
   "source": [
    "var = {12 : \"s\" , 45 : \"o \" , 56 :\"c\"}\n",
    "print(var)\n",
    "var.clear()\n",
    "print(var)"
   ]
  },
  {
   "cell_type": "code",
   "execution_count": 24,
   "metadata": {},
   "outputs": [
    {
     "data": {
      "text/plain": [
       "['__class__',\n",
       " '__contains__',\n",
       " '__delattr__',\n",
       " '__delitem__',\n",
       " '__dir__',\n",
       " '__doc__',\n",
       " '__eq__',\n",
       " '__format__',\n",
       " '__ge__',\n",
       " '__getattribute__',\n",
       " '__getitem__',\n",
       " '__gt__',\n",
       " '__hash__',\n",
       " '__init__',\n",
       " '__init_subclass__',\n",
       " '__iter__',\n",
       " '__le__',\n",
       " '__len__',\n",
       " '__lt__',\n",
       " '__ne__',\n",
       " '__new__',\n",
       " '__reduce__',\n",
       " '__reduce_ex__',\n",
       " '__repr__',\n",
       " '__setattr__',\n",
       " '__setitem__',\n",
       " '__sizeof__',\n",
       " '__str__',\n",
       " '__subclasshook__',\n",
       " 'clear',\n",
       " 'copy',\n",
       " 'fromkeys',\n",
       " 'get',\n",
       " 'items',\n",
       " 'keys',\n",
       " 'pop',\n",
       " 'popitem',\n",
       " 'setdefault',\n",
       " 'update',\n",
       " 'values']"
      ]
     },
     "execution_count": 24,
     "metadata": {},
     "output_type": "execute_result"
    }
   ],
   "source": [
    "dir(dict)"
   ]
  },
  {
   "cell_type": "code",
   "execution_count": 15,
   "metadata": {},
   "outputs": [
    {
     "ename": "TypeError",
     "evalue": "unhashable type: 'dict'",
     "output_type": "error",
     "traceback": [
      "\u001b[1;31m---------------------------------------------------------------------------\u001b[0m",
      "\u001b[1;31mTypeError\u001b[0m                                 Traceback (most recent call last)",
      "\u001b[1;32m<ipython-input-15-7eb1fec2c086>\u001b[0m in \u001b[0;36m<module>\u001b[1;34m\u001b[0m\n\u001b[0;32m      1\u001b[0m \u001b[1;31m# limitations\u001b[0m\u001b[1;33m\u001b[0m\u001b[1;33m\u001b[0m\u001b[1;33m\u001b[0m\u001b[0m\n\u001b[1;32m----> 2\u001b[1;33m \u001b[0mvar\u001b[0m \u001b[1;33m=\u001b[0m \u001b[1;33m{\u001b[0m \u001b[1;33m{\u001b[0m\u001b[1;36m1\u001b[0m\u001b[1;33m:\u001b[0m\u001b[1;36m3\u001b[0m\u001b[1;33m}\u001b[0m \u001b[1;33m:\u001b[0m \u001b[1;34m'dsksf'\u001b[0m \u001b[1;33m}\u001b[0m \u001b[1;31m# values are any daatatyepw\u001b[0m\u001b[1;33m\u001b[0m\u001b[1;33m\u001b[0m\u001b[0m\n\u001b[0m",
      "\u001b[1;31mTypeError\u001b[0m: unhashable type: 'dict'"
     ]
    }
   ],
   "source": [
    "# limitations of keys are  dont use list, set , dict\n",
    "var = { {1:3} : 'dsksf' } # values are any daatatyepw"
   ]
  }
 ],
 "metadata": {
  "kernelspec": {
   "display_name": "Python 3",
   "language": "python",
   "name": "python3"
  },
  "language_info": {
   "codemirror_mode": {
    "name": "ipython",
    "version": 3
   },
   "file_extension": ".py",
   "mimetype": "text/x-python",
   "name": "python",
   "nbconvert_exporter": "python",
   "pygments_lexer": "ipython3",
   "version": "3.7.3"
  }
 },
 "nbformat": 4,
 "nbformat_minor": 2
}
