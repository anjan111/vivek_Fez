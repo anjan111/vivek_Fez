{
 "cells": [
  {
   "cell_type": "markdown",
   "metadata": {},
   "source": [
    "# Python introduction\n",
    "\n",
    "1 .  Python Fearures \n",
    "\n",
    "2 . Python Application"
   ]
  },
  {
   "cell_type": "markdown",
   "metadata": {},
   "source": [
    "# Python features :-\n",
    "-------------------------------\n",
    "\n",
    "---> Easy\n",
    "\n",
    "---> portable \n",
    "\n",
    "---> Dynamic PL\n",
    "\n",
    "---> Scripting PL\n",
    "\n",
    "---> Interpreted PL\n",
    "\n",
    "---> Scalable\n",
    "\n",
    "----> Genaral Purpose \n",
    "\n",
    "---> SOP\n",
    "\n",
    "---> OOP\n",
    "\n",
    "---> ALL PL Fearures included in python\n",
    "\n"
   ]
  },
  {
   "cell_type": "markdown",
   "metadata": {},
   "source": [
    "# Python application\n",
    "\n",
    "---> AI\n",
    "\n",
    "---> ML\n",
    "\n",
    "---> DA\n",
    "\n",
    "---> DV\n",
    "\n",
    "---> DS\n",
    "\n",
    "---> NLP\n",
    "\n",
    "---> Wed development\n",
    "\n",
    "--->Testing & Automation\n",
    "\n",
    "---> Cloud Automation\n",
    "\n",
    "---> Network Automation\n",
    "\n",
    "---> Data base comminication\n",
    "\n",
    "---> Embedded Syste  / VLSI  / Robotics "
   ]
  }
 ],
 "metadata": {
  "kernelspec": {
   "display_name": "Python 3",
   "language": "python",
   "name": "python3"
  },
  "language_info": {
   "codemirror_mode": {
    "name": "ipython",
    "version": 3
   },
   "file_extension": ".py",
   "mimetype": "text/x-python",
   "name": "python",
   "nbconvert_exporter": "python",
   "pygments_lexer": "ipython3",
   "version": "3.7.3"
  }
 },
 "nbformat": 4,
 "nbformat_minor": 2
}
