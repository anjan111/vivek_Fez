{
 "cells": [
  {
   "cell_type": "markdown",
   "metadata": {},
   "source": [
    "# Operator :\n",
    "\n",
    "----> the symbles can perform the operation on data ( operand)\n",
    "\n",
    "there are classfied based on 2 ways \n",
    "\n",
    "1. Based On operands \n",
    "\n",
    "----> Based on no of operands with in the operation\n",
    "\n",
    "        1. unary Operator ---> the operator operating on single operand\n",
    "        \n",
    "            a. Unary plus  + ---->   + 12\n",
    "            \n",
    "            b. unary minus - ---->   - 12\n",
    "            \n",
    "            c. logical not  not -->   not 12\n",
    "            \n",
    "            d. Bitwise not  ~   -->    ~ 12\n",
    "        \n",
    "        2. Binary operator --> the operator operating on two operands \n",
    "        \n",
    "            a. binary plus     +  --->   10 + 29\n",
    "            \n",
    "            b. logical and    and --->   10 and 20\n",
    "\n",
    "2. Based on operations \n",
    "\n",
    "---> arithmetic operator\n",
    "\n",
    "---> logical operators\n",
    "\n",
    "---> relational Operators\n",
    "\n",
    "---> special Operators\n",
    "\n",
    "--> Assignmnet operator\n",
    "\n",
    "--> bitwise operator\n"
   ]
  },
  {
   "cell_type": "markdown",
   "metadata": {},
   "source": [
    "# arithmetic operators\n",
    "\n",
    "---> to do all mathametical / arithmetic / operation\n",
    "\n",
    "    1. addition                           +\n",
    "    \n",
    "    2. subtraction                        -\n",
    "    \n",
    "    3. Multiplication                     *\n",
    "    \n",
    "    4. division ( quopicent )             /\n",
    "    \n",
    "    5. modulus  ( reminder  )             %\n",
    "    \n",
    "    6.floor division                     //\n",
    "    \n",
    "    7. exponant                          **\n",
    "    \n",
    "    \n",
    "    \n",
    "    \n",
    "    \n",
    "    "
   ]
  },
  {
   "cell_type": "code",
   "execution_count": 5,
   "metadata": {},
   "outputs": [
    {
     "name": "stdout",
     "output_type": "stream",
     "text": [
      "10  +  20  =   30\n",
      "10  -  20   =   -10\n",
      "10  *  20   =   200\n",
      "10  **  20  =   100000000000000000000\n",
      "10  /  20   =   0.5\n",
      "10  //  20   =   0\n",
      "10  %  20  =   10\n"
     ]
    }
   ],
   "source": [
    "a = 10\n",
    "b = 20\n",
    "print(a,\" + \", b,\" =  \",a+b) # 30\n",
    "print(a,\" - \",b,\"  =  \",a-b)  # -10\n",
    "print(a,\" * \",b,\"  =  \",a*b)  # 200\n",
    "print(a,\" ** \", b,\" =  \",a**b)# 10^20\n",
    "print(a,\" / \",b,\"  =  \",a/b)  #  0.5\n",
    "print(a,\" // \",b,\"  =  \",a//b) # 0\n",
    "print(a,\" % \", b,\" =  \",a%b)  # 10\n"
   ]
  },
  {
   "cell_type": "code",
   "execution_count": 4,
   "metadata": {},
   "outputs": [
    {
     "data": {
      "text/plain": [
       "100000000000000000000"
      ]
     },
     "execution_count": 4,
     "metadata": {},
     "output_type": "execute_result"
    }
   ],
   "source": [
    "10 ** 20"
   ]
  },
  {
   "cell_type": "code",
   "execution_count": 6,
   "metadata": {},
   "outputs": [
    {
     "name": "stdout",
     "output_type": "stream",
     "text": [
      "enter side of sqr in meters : 10\n",
      "area of squre is :  100  sq. m  when side is  10  m\n"
     ]
    }
   ],
   "source": [
    "# wap find area of square \n",
    "side = int(input(\"enter side of sqr in meters : \"))\n",
    "area = side ** 2\n",
    "print(\"area of squre is : \",area,\" sq. m  when side is \",side,\" m\")"
   ]
  },
  {
   "cell_type": "code",
   "execution_count": null,
   "metadata": {},
   "outputs": [],
   "source": [
    "#wap find the perimeter of the sqare "
   ]
  },
  {
   "cell_type": "code",
   "execution_count": null,
   "metadata": {},
   "outputs": [],
   "source": [
    "# wap find area and perimter of rectangle"
   ]
  },
  {
   "cell_type": "code",
   "execution_count": null,
   "metadata": {},
   "outputs": [],
   "source": [
    "# wap find the area and perimeter of triangle"
   ]
  },
  {
   "cell_type": "code",
   "execution_count": null,
   "metadata": {},
   "outputs": [],
   "source": [
    "# wap find area and volume of the cube"
   ]
  },
  {
   "cell_type": "code",
   "execution_count": null,
   "metadata": {},
   "outputs": [],
   "source": [
    "# wap find the area aand volume of the room"
   ]
  },
  {
   "cell_type": "code",
   "execution_count": null,
   "metadata": {},
   "outputs": [],
   "source": [
    "# wap fins the area and volume of the cylinder"
   ]
  },
  {
   "cell_type": "code",
   "execution_count": null,
   "metadata": {},
   "outputs": [],
   "source": [
    "# wap find the simple intrest and total amount "
   ]
  },
  {
   "cell_type": "markdown",
   "metadata": {},
   "source": [
    "# Relational Operators\n",
    "\n",
    "---> To give the relationship between any two operands\n",
    "\n",
    "---> To compare any 2 operands ---> comparision operators\n",
    "\n",
    "---> We can use in conditional statements ---> conditional \"\"\"\n",
    "\n",
    "---> The result of relational operatos boolean data ---> boolean operators\n",
    "\n",
    "# There are 6 operators\n",
    "\n",
    "    1. lessthan\n",
    "    \n",
    "    2. greaterthan\n",
    "    \n",
    "    3. equal too \n",
    "    \n",
    "    4. not equal to\n",
    "    \n",
    "    5. lessthan or eqal to\n",
    "    \n",
    "    6. greaterthan or equal to\n",
    "    "
   ]
  },
  {
   "cell_type": "code",
   "execution_count": 2,
   "metadata": {},
   "outputs": [
    {
     "name": "stdout",
     "output_type": "stream",
     "text": [
      "10  <  10  is  False\n",
      "10  >  10  is  False\n",
      "10  ==  10  is  True\n",
      "10  !=  10  is  False\n",
      "10  <=  10  is  True\n",
      "10  >=  10  is  True\n"
     ]
    }
   ],
   "source": [
    "a = 10\n",
    "b = 10\n",
    "print(a,\" < \",b,\" is \", a < b)\n",
    "print(a,\" > \",b,\" is \", a > b)\n",
    "print(a,\" == \",b,\" is \", a == b)\n",
    "print(a,\" != \",b,\" is \", a != b)\n",
    "print(a,\" <= \",b,\" is \", a <= b)\n",
    "print(a,\" >= \",b,\" is \", a >= b)"
   ]
  },
  {
   "cell_type": "code",
   "execution_count": 3,
   "metadata": {},
   "outputs": [
    {
     "name": "stdout",
     "output_type": "stream",
     "text": [
      "20  <  10  is  False\n",
      "20  >  10  is  True\n",
      "20  ==  10  is  False\n",
      "20  !=  10  is  True\n",
      "20  <=  10  is  False\n",
      "20  >=  10  is  True\n"
     ]
    }
   ],
   "source": [
    "a = 20\n",
    "b = 10\n",
    "print(a,\" < \",b,\" is \", a < b)\n",
    "print(a,\" > \",b,\" is \", a > b)\n",
    "print(a,\" == \",b,\" is \", a == b)\n",
    "print(a,\" != \",b,\" is \", a != b)\n",
    "print(a,\" <= \",b,\" is \", a <= b)\n",
    "print(a,\" >= \",b,\" is \", a >= b)"
   ]
  },
  {
   "cell_type": "code",
   "execution_count": 4,
   "metadata": {},
   "outputs": [
    {
     "name": "stdout",
     "output_type": "stream",
     "text": [
      "10  <  20  is  True\n",
      "10  >  20  is  False\n",
      "10  ==  20  is  False\n",
      "10  !=  20  is  True\n",
      "10  <=  20  is  True\n",
      "10  >=  20  is  False\n"
     ]
    }
   ],
   "source": [
    "a = 10\n",
    "b = 20\n",
    "print(a,\" < \",b,\" is \", a < b)\n",
    "print(a,\" > \",b,\" is \", a > b)\n",
    "print(a,\" == \",b,\" is \", a == b)\n",
    "print(a,\" != \",b,\" is \", a != b)\n",
    "print(a,\" <= \",b,\" is \", a <= b)\n",
    "print(a,\" >= \",b,\" is \", a >= b)"
   ]
  },
  {
   "cell_type": "code",
   "execution_count": 6,
   "metadata": {},
   "outputs": [
    {
     "name": "stdout",
     "output_type": "stream",
     "text": [
      "enter num : 44\n",
      "44  is even  True\n"
     ]
    }
   ],
   "source": [
    "# wap find the giveen number is even or not\n",
    "num = int(input(\"enter num : \"))\n",
    "rem = num % 2 \n",
    "print(num,\" is even \",rem == 0)"
   ]
  },
  {
   "cell_type": "code",
   "execution_count": null,
   "metadata": {},
   "outputs": [],
   "source": [
    "# special operator\n",
    "--------------------\n",
    "\n",
    "---> membership ===> To check the availability\n",
    "\n",
    "        1. in  \n",
    "                \n",
    "            True ===>> the element available\n",
    "            \n",
    "            False ===>> its not available\n",
    "\n",
    "        1. not in  \n",
    "                \n",
    "            False ===>> the element available\n",
    "            \n",
    "            True ===>> its not available\n",
    "---> identity =====> To check the memory location\n",
    "\n",
    "        1. is\n",
    "    \n",
    "            True ==>> when both memory locations same\n",
    "        \n",
    "            False ==> Different\n",
    "    \n",
    "    \n",
    "        2. is not\n",
    "        \n",
    "            \n",
    "              False==>> when both memory locations same\n",
    "        \n",
    "              True ==> Different\n",
    "    "
   ]
  },
  {
   "cell_type": "code",
   "execution_count": 8,
   "metadata": {},
   "outputs": [
    {
     "name": "stdout",
     "output_type": "stream",
     "text": [
      "True\n",
      "False\n",
      "False\n",
      "True\n"
     ]
    }
   ],
   "source": [
    "a = [10,20,30]\n",
    "b = 30\n",
    "c =  50\n",
    "print(b in a)\n",
    "print(c in a)\n",
    "print(b not in a)\n",
    "print(c not in a)"
   ]
  },
  {
   "cell_type": "code",
   "execution_count": 11,
   "metadata": {},
   "outputs": [
    {
     "name": "stdout",
     "output_type": "stream",
     "text": [
      "[10, 20, 30]   id   602360682504\n",
      "[10, 20, 30]   id   602360682312\n",
      "[10, 20, 30]  id    602360682504\n",
      "False\n",
      "True\n",
      "True\n",
      "False\n"
     ]
    }
   ],
   "source": [
    "a = [10,20,30]\n",
    "b = [10,20,30]\n",
    "c = a\n",
    "print(a , '  id  ',id(a))\n",
    "print(b, '  id  ',id(b))\n",
    "print(c, ' id   ',id(c))\n",
    "print(a is b)\n",
    "print(a is c)\n",
    "print(a is not b)\n",
    "print(a is not c)"
   ]
  },
  {
   "cell_type": "code",
   "execution_count": 12,
   "metadata": {},
   "outputs": [
    {
     "name": "stdout",
     "output_type": "stream",
     "text": [
      "10\n",
      "10\n",
      "112\n"
     ]
    }
   ],
   "source": [
    "# Assignment operator\n",
    "\n",
    "var  = 10  # constant to varibale \n",
    "\n",
    "a = var  # variable to variable\n",
    "\n",
    "v = a * var + 12 # expression to variabke\n",
    "print(var)\n",
    "print(a)\n",
    "print(v)"
   ]
  },
  {
   "cell_type": "code",
   "execution_count": 14,
   "metadata": {},
   "outputs": [
    {
     "name": "stdout",
     "output_type": "stream",
     "text": [
      "30\n",
      "30\n"
     ]
    }
   ],
   "source": [
    "# compound assignmnet\n",
    "a = 10\n",
    "b = 20\n",
    "a = a+b\n",
    "print(a)\n",
    "a = 10\n",
    "b = 20\n",
    "a += b\n",
    "print(a)"
   ]
  },
  {
   "cell_type": "code",
   "execution_count": 15,
   "metadata": {},
   "outputs": [
    {
     "name": "stdout",
     "output_type": "stream",
     "text": [
      "-10\n",
      "-10\n"
     ]
    }
   ],
   "source": [
    "a = 10\n",
    "b = 20\n",
    "a = a-b\n",
    "print(a)\n",
    "a = 10\n",
    "b = 20\n",
    "a -= b\n",
    "print(a)"
   ]
  },
  {
   "cell_type": "code",
   "execution_count": 16,
   "metadata": {},
   "outputs": [
    {
     "name": "stdout",
     "output_type": "stream",
     "text": [
      "200\n",
      "200\n"
     ]
    }
   ],
   "source": [
    "a = 10\n",
    "b = 20\n",
    "a = a*b\n",
    "print(a)\n",
    "a = 10\n",
    "b = 20\n",
    "a *= b\n",
    "print(a)"
   ]
  },
  {
   "cell_type": "code",
   "execution_count": 17,
   "metadata": {},
   "outputs": [
    {
     "name": "stdout",
     "output_type": "stream",
     "text": [
      "False\n",
      "True\n"
     ]
    }
   ],
   "source": [
    "# logical operator\n",
    "\n",
    "# logical not \n",
    "print( not 10)\n",
    "print( not 0)"
   ]
  },
  {
   "cell_type": "code",
   "execution_count": 19,
   "metadata": {
    "scrolled": true
   },
   "outputs": [
    {
     "name": "stdout",
     "output_type": "stream",
     "text": [
      "20\n",
      "0\n"
     ]
    }
   ],
   "source": [
    "#logical and\n",
    "# o/p ----> 1st input vallues when 1st input is false case\n",
    "# 0/]p ---> 2nd input when the when the 1st input is True case\n",
    "print(10 and 20)\n",
    "print(0 and 34)"
   ]
  },
  {
   "cell_type": "code",
   "execution_count": 20,
   "metadata": {},
   "outputs": [
    {
     "name": "stdout",
     "output_type": "stream",
     "text": [
      "10\n",
      "34\n"
     ]
    }
   ],
   "source": [
    "# logical or\n",
    "# o/p ----> 1st input vallues when 1st input is True case\n",
    "# 0/]p ---> 2nd input when the when the 1st input is False case\n",
    "print(10 or 20) # 10\n",
    "print(0 or 34)  # 34"
   ]
  },
  {
   "cell_type": "code",
   "execution_count": null,
   "metadata": {},
   "outputs": [],
   "source": [
    "# number system vonversion topic"
   ]
  }
 ],
 "metadata": {
  "kernelspec": {
   "display_name": "Python 3",
   "language": "python",
   "name": "python3"
  },
  "language_info": {
   "codemirror_mode": {
    "name": "ipython",
    "version": 3
   },
   "file_extension": ".py",
   "mimetype": "text/x-python",
   "name": "python",
   "nbconvert_exporter": "python",
   "pygments_lexer": "ipython3",
   "version": "3.7.3"
  }
 },
 "nbformat": 4,
 "nbformat_minor": 2
}
