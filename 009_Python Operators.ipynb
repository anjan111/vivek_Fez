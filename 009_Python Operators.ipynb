{
 "cells": [
  {
   "cell_type": "markdown",
   "metadata": {},
   "source": [
    "# Operator :\n",
    "\n",
    "----> the symbles can perform the operation on data ( operand)\n",
    "\n",
    "there are classfied based on 2 ways \n",
    "\n",
    "1. Based On operands \n",
    "\n",
    "----> Based on no of operands with in the operation\n",
    "\n",
    "        1. unary Operator ---> the operator operating on single operand\n",
    "        \n",
    "            a. Unary plus  + ---->   + 12\n",
    "            \n",
    "            b. unary minus - ---->   - 12\n",
    "            \n",
    "            c. logical not  not -->   not 12\n",
    "            \n",
    "            d. Bitwise not  ~   -->    ~ 12\n",
    "        \n",
    "        2. Binary operator --> the operator operating on two operands \n",
    "        \n",
    "            a. binary plus     +  --->   10 + 29\n",
    "            \n",
    "            b. logical and    and --->   10 and 20\n",
    "\n",
    "2. Based on operations \n",
    "\n",
    "---> arithmetic operator\n",
    "\n",
    "---> logical operators\n",
    "\n",
    "---> relational Operators\n",
    "\n",
    "---> special Operators\n",
    "\n",
    "--> Assignmnet operator\n",
    "\n",
    "--> bitwise operator\n"
   ]
  },
  {
   "cell_type": "markdown",
   "metadata": {},
   "source": [
    "# arithmetic operators\n",
    "\n",
    "---> to do all mathametical / arithmetic / operation\n",
    "\n",
    "    1. addition                           +\n",
    "    \n",
    "    2. subtraction                        -\n",
    "    \n",
    "    3. Multiplication                     *\n",
    "    \n",
    "    4. division ( quopicent )             /\n",
    "    \n",
    "    5. modulus  ( reminder  )             %\n",
    "    \n",
    "    6.floor division                     //\n",
    "    \n",
    "    7. exponant                          **\n",
    "    \n",
    "    \n",
    "    \n",
    "    \n",
    "    \n",
    "    "
   ]
  },
  {
   "cell_type": "code",
   "execution_count": 5,
   "metadata": {},
   "outputs": [
    {
     "name": "stdout",
     "output_type": "stream",
     "text": [
      "10  +  20  =   30\n",
      "10  -  20   =   -10\n",
      "10  *  20   =   200\n",
      "10  **  20  =   100000000000000000000\n",
      "10  /  20   =   0.5\n",
      "10  //  20   =   0\n",
      "10  %  20  =   10\n"
     ]
    }
   ],
   "source": [
    "a = 10\n",
    "b = 20\n",
    "print(a,\" + \", b,\" =  \",a+b) # 30\n",
    "print(a,\" - \",b,\"  =  \",a-b)  # -10\n",
    "print(a,\" * \",b,\"  =  \",a*b)  # 200\n",
    "print(a,\" ** \", b,\" =  \",a**b)# 10^20\n",
    "print(a,\" / \",b,\"  =  \",a/b)  #  0.5\n",
    "print(a,\" // \",b,\"  =  \",a//b) # 0\n",
    "print(a,\" % \", b,\" =  \",a%b)  # 10\n"
   ]
  },
  {
   "cell_type": "code",
   "execution_count": 4,
   "metadata": {},
   "outputs": [
    {
     "data": {
      "text/plain": [
       "100000000000000000000"
      ]
     },
     "execution_count": 4,
     "metadata": {},
     "output_type": "execute_result"
    }
   ],
   "source": [
    "10 ** 20"
   ]
  },
  {
   "cell_type": "code",
   "execution_count": 6,
   "metadata": {},
   "outputs": [
    {
     "name": "stdout",
     "output_type": "stream",
     "text": [
      "enter side of sqr in meters : 10\n",
      "area of squre is :  100  sq. m  when side is  10  m\n"
     ]
    }
   ],
   "source": [
    "# wap find area of square \n",
    "side = int(input(\"enter side of sqr in meters : \"))\n",
    "area = side ** 2\n",
    "print(\"area of squre is : \",area,\" sq. m  when side is \",side,\" m\")"
   ]
  },
  {
   "cell_type": "code",
   "execution_count": null,
   "metadata": {},
   "outputs": [],
   "source": [
    "#wap find the perimeter of the sqare "
   ]
  },
  {
   "cell_type": "code",
   "execution_count": null,
   "metadata": {},
   "outputs": [],
   "source": [
    "# wap find area and perimter of rectangle"
   ]
  },
  {
   "cell_type": "code",
   "execution_count": null,
   "metadata": {},
   "outputs": [],
   "source": [
    "# wap find the area and perimeter of triangle"
   ]
  },
  {
   "cell_type": "code",
   "execution_count": null,
   "metadata": {},
   "outputs": [],
   "source": [
    "# wap find area and volume of the cube"
   ]
  },
  {
   "cell_type": "code",
   "execution_count": null,
   "metadata": {},
   "outputs": [],
   "source": [
    "# wap find the area aand volume of the room"
   ]
  },
  {
   "cell_type": "code",
   "execution_count": null,
   "metadata": {},
   "outputs": [],
   "source": [
    "# wap fins the area and volume of the cylinder"
   ]
  },
  {
   "cell_type": "code",
   "execution_count": null,
   "metadata": {},
   "outputs": [],
   "source": [
    "# wap find the "
   ]
  }
 ],
 "metadata": {
  "kernelspec": {
   "display_name": "Python 3",
   "language": "python",
   "name": "python3"
  },
  "language_info": {
   "codemirror_mode": {
    "name": "ipython",
    "version": 3
   },
   "file_extension": ".py",
   "mimetype": "text/x-python",
   "name": "python",
   "nbconvert_exporter": "python",
   "pygments_lexer": "ipython3",
   "version": "3.7.3"
  }
 },
 "nbformat": 4,
 "nbformat_minor": 2
}
