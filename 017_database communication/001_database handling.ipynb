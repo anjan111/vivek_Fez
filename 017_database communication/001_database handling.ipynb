{
 "cells": [
  {
   "cell_type": "markdown",
   "metadata": {},
   "source": [
    "#  Database\n",
    "\n",
    "---> Database is organizing the daata in the tabular format\n",
    "\n",
    "---> DBMS ---> Database Management system ( sqlite3, sql, mysql, oracle)\n",
    "\n",
    "---> Serverless DBMS---> sqlite3\n",
    "\n",
    "-----------------------> import seqlite3  <------------------------\n",
    "\n",
    "connect() ---> to conncet any database/ create the daatabase\n",
    "\n",
    "curcor() ---> to control database\n",
    "\n",
    "execute() --> sql statements we can execute \n",
    "\n",
    "commit() ---> to  modify the orginal database\n",
    "\n",
    "fetchall() --> it having the status of execute \n",
    "\n",
    "close()"
   ]
  },
  {
   "cell_type": "code",
   "execution_count": 5,
   "metadata": {},
   "outputs": [],
   "source": [
    "import sqlite3 as sql\n",
    "con = sql.connect(\"sample.db\")\n",
    "cur = con.cursor()\n",
    "#cur.execute(\"create table std(name,phone)\")\n",
    "cur.execute(\"create table std1(name,phone)\")\n",
    "con.close()"
   ]
  },
  {
   "cell_type": "code",
   "execution_count": 13,
   "metadata": {},
   "outputs": [],
   "source": [
    "import sqlite3 as sql\n",
    "con = sql.connect(\"sample.db\")\n",
    "cur = con.cursor()\n",
    "#cur.execute(\"create table std(name,phone)\")\n",
    "#cur.execute(\"insert into std values('anjan',9640987960)\")\n",
    "cur.execute(\"insert into std values('anjan',88987)\")\n",
    "cur.execute(\"insert into std values('saif',96409)\")\n",
    "con.commit()\n",
    "con.close()"
   ]
  },
  {
   "cell_type": "code",
   "execution_count": 14,
   "metadata": {},
   "outputs": [
    {
     "name": "stdout",
     "output_type": "stream",
     "text": [
      "('anjan', 9640987960)\n",
      "('anjan', 88987)\n",
      "('saif', 96409)\n",
      "('anjan', 88987)\n",
      "('saif', 96409)\n"
     ]
    }
   ],
   "source": [
    "import sqlite3 as sql\n",
    "con = sql.connect(\"sample.db\")\n",
    "cur = con.cursor()\n",
    "cur.execute(\"select * from std\")\n",
    "for record in cur.fetchall():\n",
    "    print(record)\n",
    "con.commit()\n",
    "con.close()"
   ]
  },
  {
   "cell_type": "code",
   "execution_count": 15,
   "metadata": {},
   "outputs": [
    {
     "name": "stdout",
     "output_type": "stream",
     "text": [
      "('saif', 96409)\n",
      "('saif', 96409)\n"
     ]
    }
   ],
   "source": [
    "import sqlite3 as sql\n",
    "con = sql.connect(\"sample.db\")\n",
    "cur = con.cursor()\n",
    "cur.execute(\"select * from std where phone = 96409\")\n",
    "for record in cur.fetchall():\n",
    "    print(record)\n",
    "con.commit()\n",
    "con.close()"
   ]
  },
  {
   "cell_type": "code",
   "execution_count": 16,
   "metadata": {},
   "outputs": [],
   "source": [
    "import sqlite3 as sql\n",
    "con = sql.connect(\"sample.db\")\n",
    "cur = con.cursor()\n",
    "cur.execute(\"update std set phone = 456 where name = 'saif'\")\n",
    "\n",
    "con.commit()\n",
    "con.close()"
   ]
  },
  {
   "cell_type": "code",
   "execution_count": 18,
   "metadata": {},
   "outputs": [
    {
     "name": "stdout",
     "output_type": "stream",
     "text": [
      "('saif', 456)\n",
      "('saif', 456)\n"
     ]
    }
   ],
   "source": [
    "import sqlite3 as sql\n",
    "con = sql.connect(\"sample.db\")\n",
    "cur = con.cursor()\n",
    "cur.execute(\"select * from std where name= 'saif'\")\n",
    "for record in cur.fetchall():\n",
    "    print(record)\n",
    "con.commit()\n",
    "con.close()"
   ]
  },
  {
   "cell_type": "code",
   "execution_count": 19,
   "metadata": {},
   "outputs": [
    {
     "name": "stdout",
     "output_type": "stream",
     "text": [
      "('anjan', 9640987960)\n",
      "('saif', 456)\n",
      "('saif', 456)\n"
     ]
    }
   ],
   "source": [
    "import sqlite3 as sql\n",
    "con = sql.connect(\"sample.db\")\n",
    "cur = con.cursor()\n",
    "cur.execute(\"delete from std where phone = 88987\")\n",
    "cur.execute(\"select * from std\")\n",
    "for record in cur.fetchall():\n",
    "    print(record)\n",
    "con.commit()\n",
    "con.close()"
   ]
  }
 ],
 "metadata": {
  "kernelspec": {
   "display_name": "Python 3",
   "language": "python",
   "name": "python3"
  },
  "language_info": {
   "codemirror_mode": {
    "name": "ipython",
    "version": 3
   },
   "file_extension": ".py",
   "mimetype": "text/x-python",
   "name": "python",
   "nbconvert_exporter": "python",
   "pygments_lexer": "ipython3",
   "version": "3.7.3"
  }
 },
 "nbformat": 4,
 "nbformat_minor": 2
}
