{
 "cells": [
  {
   "cell_type": "markdown",
   "metadata": {},
   "source": [
    "# string \n",
    "\n",
    "---->collection of characters / letters \n",
    "\n",
    "\n"
   ]
  },
  {
   "cell_type": "code",
   "execution_count": 1,
   "metadata": {},
   "outputs": [
    {
     "name": "stdout",
     "output_type": "stream",
     "text": [
      "soc\n",
      "<class 'str'>\n"
     ]
    }
   ],
   "source": [
    "# single quotes \n",
    "var = 'soc'\n",
    "print(var)\n",
    "print(type(var))"
   ]
  },
  {
   "cell_type": "code",
   "execution_count": 2,
   "metadata": {},
   "outputs": [
    {
     "name": "stdout",
     "output_type": "stream",
     "text": [
      "soc\n",
      "<class 'str'>\n"
     ]
    }
   ],
   "source": [
    "# double quotes\n",
    "var = \"soc\"\n",
    "print(var)\n",
    "print(type(var))"
   ]
  },
  {
   "cell_type": "code",
   "execution_count": 3,
   "metadata": {},
   "outputs": [
    {
     "name": "stdout",
     "output_type": "stream",
     "text": [
      "soc\n",
      "<class 'str'>\n"
     ]
    }
   ],
   "source": [
    "# single quotes triples times\n",
    "var = '''soc'''\n",
    "print(var)\n",
    "print(type(var))"
   ]
  },
  {
   "cell_type": "code",
   "execution_count": 4,
   "metadata": {},
   "outputs": [
    {
     "name": "stdout",
     "output_type": "stream",
     "text": [
      "soc\n",
      "<class 'str'>\n"
     ]
    }
   ],
   "source": [
    "# double quote triple times\n",
    "var = \"\"\"soc\"\"\"\n",
    "print(var)\n",
    "print(type(var))"
   ]
  },
  {
   "cell_type": "markdown",
   "metadata": {},
   "source": [
    "# Access the characters from string\n",
    "\n",
    "# indexing ---> to access only single characters\n",
    "\n",
    "# positive indexing  ( 0 to len-1)\n",
    "\n",
    "# Negative indexing  (-1 to -len)"
   ]
  },
  {
   "cell_type": "code",
   "execution_count": 5,
   "metadata": {},
   "outputs": [
    {
     "name": "stdout",
     "output_type": "stream",
     "text": [
      "positive indexing\n",
      "s\n",
      "o\n",
      "c\n",
      "Negative indexing \n",
      "c\n",
      "o\n",
      "s\n"
     ]
    }
   ],
   "source": [
    "var =\"soc\"\n",
    "print(\"positive indexing\")\n",
    "print(var[0])\n",
    "print(var[1])\n",
    "print(var[2])\n",
    "print(\"Negative indexing \")\n",
    "print(var[-1])\n",
    "print(var[-2])\n",
    "print(var[-3])"
   ]
  },
  {
   "cell_type": "code",
   "execution_count": 8,
   "metadata": {},
   "outputs": [
    {
     "name": "stdout",
     "output_type": "stream",
     "text": [
      "program\n",
      "program\n",
      "python\n"
     ]
    }
   ],
   "source": [
    "# String slicing  ---> we can access the sub string from main string \n",
    "# var[ start : stop ] \n",
    "var = \"pythonprogram\"\n",
    "print(var[6:13])\n",
    "print(var[6:])# stop  ---> len of string\n",
    "print(var[:6])# start ---> 0"
   ]
  },
  {
   "cell_type": "code",
   "execution_count": 9,
   "metadata": {},
   "outputs": [
    {
     "name": "stdout",
     "output_type": "stream",
     "text": [
      "tno\n",
      "pgm\n",
      "pto\n",
      "program\n"
     ]
    }
   ],
   "source": [
    "# string dicing  ---> we can access step wise character\n",
    "# var[start : stop  : step ]\n",
    "var = \"pythonprogram\"\n",
    "print(var[2:10:3]) #tno\n",
    "print(var[6::3])# stop  ---> len of string  ---> pgm\n",
    "print(var[:6:2])# start ---> 0--->pto\n",
    "print(var[6:13:]) # step --> 1"
   ]
  },
  {
   "cell_type": "code",
   "execution_count": 10,
   "metadata": {},
   "outputs": [
    {
     "ename": "TypeError",
     "evalue": "'str' object does not support item assignment",
     "output_type": "error",
     "traceback": [
      "\u001b[1;31m---------------------------------------------------------------------------\u001b[0m",
      "\u001b[1;31mTypeError\u001b[0m                                 Traceback (most recent call last)",
      "\u001b[1;32m<ipython-input-10-0c1034177782>\u001b[0m in \u001b[0;36m<module>\u001b[1;34m\u001b[0m\n\u001b[0;32m      1\u001b[0m \u001b[1;31m# sstring modification\u001b[0m\u001b[1;33m\u001b[0m\u001b[1;33m\u001b[0m\u001b[1;33m\u001b[0m\u001b[0m\n\u001b[0;32m      2\u001b[0m \u001b[0mvar\u001b[0m \u001b[1;33m=\u001b[0m \u001b[1;34m\"pythonprogram\"\u001b[0m\u001b[1;33m\u001b[0m\u001b[1;33m\u001b[0m\u001b[0m\n\u001b[1;32m----> 3\u001b[1;33m \u001b[0mvar\u001b[0m\u001b[1;33m[\u001b[0m\u001b[1;36m5\u001b[0m\u001b[1;33m]\u001b[0m \u001b[1;33m=\u001b[0m \u001b[1;34m\"N\"\u001b[0m\u001b[1;33m\u001b[0m\u001b[1;33m\u001b[0m\u001b[0m\n\u001b[0m",
      "\u001b[1;31mTypeError\u001b[0m: 'str' object does not support item assignment"
     ]
    }
   ],
   "source": [
    "# sstring modification----> immutable datatype\n",
    "var = \"pythonprogram\"\n",
    "var[5] = \"N\""
   ]
  },
  {
   "cell_type": "code",
   "execution_count": 11,
   "metadata": {},
   "outputs": [
    {
     "name": "stdout",
     "output_type": "stream",
     "text": [
      "PYthonProgram\n",
      "pythonprogram\n",
      "PYthonProgram\n"
     ]
    }
   ],
   "source": [
    "# lower\n",
    "var = \"PYthonProgram\"\n",
    "print(var)\n",
    "print(var.lower())\n",
    "print(var)"
   ]
  },
  {
   "cell_type": "code",
   "execution_count": 12,
   "metadata": {},
   "outputs": [
    {
     "name": "stdout",
     "output_type": "stream",
     "text": [
      "PYthonProgram\n",
      "PYTHONPROGRAM\n",
      "PYthonProgram\n"
     ]
    }
   ],
   "source": [
    "# upper\n",
    "var = \"PYthonProgram\"\n",
    "print(var)\n",
    "print(var.upper())\n",
    "print(var)"
   ]
  },
  {
   "cell_type": "code",
   "execution_count": 14,
   "metadata": {},
   "outputs": [
    {
     "name": "stdout",
     "output_type": "stream",
     "text": [
      "PYthon Program\n",
      "Python program\n",
      "PYthon Program\n"
     ]
    }
   ],
   "source": [
    "# capitalize\n",
    "var = \"PYthon Program\"\n",
    "print(var)\n",
    "print(var.capitalize())\n",
    "print(var)"
   ]
  },
  {
   "cell_type": "code",
   "execution_count": 15,
   "metadata": {},
   "outputs": [
    {
     "name": "stdout",
     "output_type": "stream",
     "text": [
      "PYthon Program\n",
      "Python Program\n",
      "PYthon Program\n"
     ]
    }
   ],
   "source": [
    "# title\n",
    "var = \"PYthon Program\"\n",
    "print(var)\n",
    "print(var.title())\n",
    "print(var)"
   ]
  },
  {
   "cell_type": "code",
   "execution_count": 16,
   "metadata": {},
   "outputs": [
    {
     "name": "stdout",
     "output_type": "stream",
     "text": [
      "PYthon Program\n",
      "2\n",
      "PYthon Program\n"
     ]
    }
   ],
   "source": [
    "# index\n",
    "var = \"PYthon Program\"\n",
    "print(var)\n",
    "print(var.index('t'))\n",
    "print(var)"
   ]
  },
  {
   "cell_type": "code",
   "execution_count": 17,
   "metadata": {},
   "outputs": [
    {
     "name": "stdout",
     "output_type": "stream",
     "text": [
      "PYthon Program\n"
     ]
    },
    {
     "ename": "ValueError",
     "evalue": "substring not found",
     "output_type": "error",
     "traceback": [
      "\u001b[1;31m---------------------------------------------------------------------------\u001b[0m",
      "\u001b[1;31mValueError\u001b[0m                                Traceback (most recent call last)",
      "\u001b[1;32m<ipython-input-17-4cb4166e6b87>\u001b[0m in \u001b[0;36m<module>\u001b[1;34m\u001b[0m\n\u001b[0;32m      2\u001b[0m \u001b[0mvar\u001b[0m \u001b[1;33m=\u001b[0m \u001b[1;34m\"PYthon Program\"\u001b[0m\u001b[1;33m\u001b[0m\u001b[1;33m\u001b[0m\u001b[0m\n\u001b[0;32m      3\u001b[0m \u001b[0mprint\u001b[0m\u001b[1;33m(\u001b[0m\u001b[0mvar\u001b[0m\u001b[1;33m)\u001b[0m\u001b[1;33m\u001b[0m\u001b[1;33m\u001b[0m\u001b[0m\n\u001b[1;32m----> 4\u001b[1;33m \u001b[0mprint\u001b[0m\u001b[1;33m(\u001b[0m\u001b[0mvar\u001b[0m\u001b[1;33m.\u001b[0m\u001b[0mindex\u001b[0m\u001b[1;33m(\u001b[0m\u001b[1;34m'1'\u001b[0m\u001b[1;33m)\u001b[0m\u001b[1;33m)\u001b[0m\u001b[1;33m\u001b[0m\u001b[1;33m\u001b[0m\u001b[0m\n\u001b[0m\u001b[0;32m      5\u001b[0m \u001b[0mprint\u001b[0m\u001b[1;33m(\u001b[0m\u001b[0mvar\u001b[0m\u001b[1;33m)\u001b[0m\u001b[1;33m\u001b[0m\u001b[1;33m\u001b[0m\u001b[0m\n",
      "\u001b[1;31mValueError\u001b[0m: substring not found"
     ]
    }
   ],
   "source": [
    "# index\n",
    "var = \"PYthon Program\"\n",
    "print(var)\n",
    "print(var.index('1'))\n",
    "print(var)"
   ]
  },
  {
   "cell_type": "code",
   "execution_count": 28,
   "metadata": {},
   "outputs": [
    {
     "name": "stdout",
     "output_type": "stream",
     "text": [
      "PYthon Program\n",
      "7\n",
      "PYthon Program\n"
     ]
    }
   ],
   "source": [
    "# index\n",
    "var = \"PYthon Program\"\n",
    "print(var)\n",
    "print(var.index('P',6,10))\n",
    "print(var)"
   ]
  },
  {
   "cell_type": "code",
   "execution_count": 29,
   "metadata": {},
   "outputs": [
    {
     "name": "stdout",
     "output_type": "stream",
     "text": [
      "PYthon Program\n",
      "2\n",
      "PYthon Program\n"
     ]
    }
   ],
   "source": [
    "# find\n",
    "var = \"PYthon Program\"\n",
    "print(var)\n",
    "print(var.find('t'))\n",
    "print(var)"
   ]
  },
  {
   "cell_type": "code",
   "execution_count": 30,
   "metadata": {},
   "outputs": [
    {
     "name": "stdout",
     "output_type": "stream",
     "text": [
      "PYthon Program\n",
      "-1\n",
      "PYthon Program\n"
     ]
    }
   ],
   "source": [
    "# find\n",
    "var = \"PYthon Program\"\n",
    "print(var)\n",
    "print(var.find('1'))\n",
    "print(var)"
   ]
  },
  {
   "cell_type": "code",
   "execution_count": 31,
   "metadata": {},
   "outputs": [
    {
     "name": "stdout",
     "output_type": "stream",
     "text": [
      "PYthon Program\n",
      "2\n",
      "PYthon Program\n"
     ]
    }
   ],
   "source": [
    "# find\n",
    "var = \"PYthon Program\"\n",
    "print(var)\n",
    "print(var.count('P'))\n",
    "print(var)"
   ]
  },
  {
   "cell_type": "code",
   "execution_count": 32,
   "metadata": {},
   "outputs": [
    {
     "name": "stdout",
     "output_type": "stream",
     "text": [
      "PYthon Program\n",
      "888PYthon Program888\n",
      "PYthon Program\n"
     ]
    }
   ],
   "source": [
    "# find\n",
    "var = \"PYthon Program\"\n",
    "print(var)\n",
    "print(var.center(20,'8'))\n",
    "print(var)"
   ]
  },
  {
   "cell_type": "code",
   "execution_count": 34,
   "metadata": {},
   "outputs": [
    {
     "name": "stdout",
     "output_type": "stream",
     "text": [
      "PYthon Program\n",
      "pYthon program\n",
      "PYthon Program\n"
     ]
    }
   ],
   "source": [
    "# replace\n",
    "var = \"PYthon Program\"\n",
    "print(var)\n",
    "print(var.replace('P','p'))\n",
    "print(var)"
   ]
  },
  {
   "cell_type": "code",
   "execution_count": 35,
   "metadata": {},
   "outputs": [
    {
     "name": "stdout",
     "output_type": "stream",
     "text": [
      "PYthon Program\n",
      "000000PYthon Program\n",
      "PYthon Program\n"
     ]
    }
   ],
   "source": [
    "# zfill\n",
    "var = \"PYthon Program\"\n",
    "print(var)\n",
    "print(var.zfill(20))\n",
    "print(var)"
   ]
  },
  {
   "cell_type": "code",
   "execution_count": 39,
   "metadata": {},
   "outputs": [
    {
     "name": "stdout",
     "output_type": "stream",
     "text": [
      "False\n",
      "True\n"
     ]
    }
   ],
   "source": [
    "# islower\n",
    "var = \"Python12\"\n",
    "print(var.islower())\n",
    "var = \"python23\"\n",
    "print(var.islower())"
   ]
  },
  {
   "cell_type": "code",
   "execution_count": 40,
   "metadata": {},
   "outputs": [
    {
     "name": "stdout",
     "output_type": "stream",
     "text": [
      "False\n",
      "True\n"
     ]
    }
   ],
   "source": [
    "# isupper\n",
    "var =\"pJHSHJAGH12\"\n",
    "print(var.isupper())\n",
    "var =\"LKJJRKLGK234324\"\n",
    "print(var.isupper())"
   ]
  },
  {
   "cell_type": "code",
   "execution_count": 41,
   "metadata": {},
   "outputs": [
    {
     "name": "stdout",
     "output_type": "stream",
     "text": [
      "False\n",
      "True\n"
     ]
    }
   ],
   "source": [
    "# istitle\n",
    "var =\"PtyHB jfJJ\"\n",
    "print(var.istitle())\n",
    "var =\"This Is Title Formate\"\n",
    "print(var.istitle())"
   ]
  },
  {
   "cell_type": "code",
   "execution_count": 42,
   "metadata": {},
   "outputs": [
    {
     "name": "stdout",
     "output_type": "stream",
     "text": [
      "False\n",
      "True\n"
     ]
    }
   ],
   "source": [
    "# isdigit\n",
    "var = \"j1233&\"\n",
    "print(var.isdigit())\n",
    "var = \"76474654\"\n",
    "print(var.isdigit())"
   ]
  },
  {
   "cell_type": "code",
   "execution_count": 43,
   "metadata": {},
   "outputs": [
    {
     "name": "stdout",
     "output_type": "stream",
     "text": [
      "False\n",
      "True\n",
      "True\n",
      "True\n"
     ]
    }
   ],
   "source": [
    "# isalnum\n",
    "var = \"jGgf1233&\"\n",
    "print(var.isalnum())\n",
    "var = \"76474654\"\n",
    "print(var.isalnum())\n",
    "var =\"kjjkgfkjkdgJHJ\"\n",
    "print(var.isalnum())\n",
    "var =\"kjjkgfkjkd856589649gJHJ\"\n",
    "print(var.isalnum())"
   ]
  },
  {
   "cell_type": "code",
   "execution_count": 44,
   "metadata": {},
   "outputs": [
    {
     "name": "stdout",
     "output_type": "stream",
     "text": [
      "True\n",
      "False\n"
     ]
    }
   ],
   "source": [
    "# isalpha\n",
    "var =\"kfjgJKHJG\"\n",
    "print(var.isalpha())\n",
    "var =\"jdhf&^&545\"\n",
    "print(var.isalpha())"
   ]
  }
 ],
 "metadata": {
  "kernelspec": {
   "display_name": "Python 3",
   "language": "python",
   "name": "python3"
  },
  "language_info": {
   "codemirror_mode": {
    "name": "ipython",
    "version": 3
   },
   "file_extension": ".py",
   "mimetype": "text/x-python",
   "name": "python",
   "nbconvert_exporter": "python",
   "pygments_lexer": "ipython3",
   "version": "3.7.3"
  }
 },
 "nbformat": 4,
 "nbformat_minor": 2
}
