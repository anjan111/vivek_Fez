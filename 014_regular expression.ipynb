{
 "cells": [
  {
   "cell_type": "code",
   "execution_count": null,
   "metadata": {},
   "outputs": [],
   "source": [
    "# regular expression\n",
    "\n",
    "match ----> \n",
    "\n",
    "search ---->\n",
    "\n",
    "findall --->\n",
    "\n",
    "sub ------>\n",
    "\n",
    "compile --->"
   ]
  },
  {
   "cell_type": "code",
   "execution_count": 1,
   "metadata": {},
   "outputs": [],
   "source": [
    "import re"
   ]
  },
  {
   "cell_type": "code",
   "execution_count": 2,
   "metadata": {},
   "outputs": [
    {
     "name": "stdout",
     "output_type": "stream",
     "text": [
      "Help on function match in module re:\n",
      "\n",
      "match(pattern, string, flags=0)\n",
      "    Try to apply the pattern at the start of the string, returning\n",
      "    a Match object, or None if no match was found.\n",
      "\n"
     ]
    }
   ],
   "source": [
    "help(re.match)"
   ]
  },
  {
   "cell_type": "code",
   "execution_count": 3,
   "metadata": {},
   "outputs": [
    {
     "name": "stdout",
     "output_type": "stream",
     "text": [
      "<re.Match object; span=(0, 3), match='pyt'>\n"
     ]
    }
   ],
   "source": [
    "tar = \"python program\"\n",
    "print(re.match('pyt',tar))"
   ]
  },
  {
   "cell_type": "code",
   "execution_count": 4,
   "metadata": {},
   "outputs": [
    {
     "name": "stdout",
     "output_type": "stream",
     "text": [
      "None\n"
     ]
    }
   ],
   "source": [
    "tar = \"python program\"\n",
    "print(re.match('prog',tar))"
   ]
  },
  {
   "cell_type": "code",
   "execution_count": 5,
   "metadata": {},
   "outputs": [
    {
     "name": "stdout",
     "output_type": "stream",
     "text": [
      "Help on function search in module re:\n",
      "\n",
      "search(pattern, string, flags=0)\n",
      "    Scan through string looking for a match to the pattern, returning\n",
      "    a Match object, or None if no match was found.\n",
      "\n"
     ]
    }
   ],
   "source": [
    "help(re.search)"
   ]
  },
  {
   "cell_type": "code",
   "execution_count": 6,
   "metadata": {},
   "outputs": [
    {
     "name": "stdout",
     "output_type": "stream",
     "text": [
      "<re.Match object; span=(0, 3), match='pyt'>\n"
     ]
    }
   ],
   "source": [
    "tar = \"python program\"\n",
    "print(re.search('pyt',tar))"
   ]
  },
  {
   "cell_type": "code",
   "execution_count": 7,
   "metadata": {},
   "outputs": [
    {
     "name": "stdout",
     "output_type": "stream",
     "text": [
      "<re.Match object; span=(7, 11), match='prog'>\n"
     ]
    }
   ],
   "source": [
    "tar = \"python program\"\n",
    "print(re.search('prog',tar))"
   ]
  },
  {
   "cell_type": "code",
   "execution_count": 8,
   "metadata": {},
   "outputs": [
    {
     "name": "stdout",
     "output_type": "stream",
     "text": [
      "None\n"
     ]
    }
   ],
   "source": [
    "tar = \"python program\"\n",
    "print(re.search('pt',tar))"
   ]
  },
  {
   "cell_type": "code",
   "execution_count": 9,
   "metadata": {},
   "outputs": [
    {
     "name": "stdout",
     "output_type": "stream",
     "text": [
      "Help on function findall in module re:\n",
      "\n",
      "findall(pattern, string, flags=0)\n",
      "    Return a list of all non-overlapping matches in the string.\n",
      "    \n",
      "    If one or more capturing groups are present in the pattern, return\n",
      "    a list of groups; this will be a list of tuples if the pattern\n",
      "    has more than one group.\n",
      "    \n",
      "    Empty matches are included in the result.\n",
      "\n"
     ]
    }
   ],
   "source": [
    "help(re.findall)"
   ]
  },
  {
   "cell_type": "code",
   "execution_count": 11,
   "metadata": {},
   "outputs": [
    {
     "name": "stdout",
     "output_type": "stream",
     "text": [
      "['python', 'python']\n"
     ]
    }
   ],
   "source": [
    "tar = \"python program python lang\"\n",
    "print(re.findall('python',tar))"
   ]
  },
  {
   "cell_type": "code",
   "execution_count": 13,
   "metadata": {},
   "outputs": [
    {
     "name": "stdout",
     "output_type": "stream",
     "text": [
      "Help on function sub in module re:\n",
      "\n",
      "sub(pattern, repl, string, count=0, flags=0)\n",
      "    Return the string obtained by replacing the leftmost\n",
      "    non-overlapping occurrences of the pattern in string by the\n",
      "    replacement repl.  repl can be either a string or a callable;\n",
      "    if a string, backslash escapes in it are processed.  If it is\n",
      "    a callable, it's passed the Match object and must return\n",
      "    a replacement string to be used.\n",
      "\n"
     ]
    }
   ],
   "source": [
    "help(re.sub)"
   ]
  },
  {
   "cell_type": "code",
   "execution_count": 12,
   "metadata": {},
   "outputs": [
    {
     "name": "stdout",
     "output_type": "stream",
     "text": [
      "C program C lang\n"
     ]
    }
   ],
   "source": [
    "tar = \"python program python lang\"\n",
    "print(re.sub('python','C',tar))"
   ]
  },
  {
   "cell_type": "code",
   "execution_count": 14,
   "metadata": {},
   "outputs": [
    {
     "data": {
      "text/plain": [
       "'C program C lang'"
      ]
     },
     "execution_count": 14,
     "metadata": {},
     "output_type": "execute_result"
    }
   ],
   "source": [
    "tar = \"python program python lang\"\n",
    "ptr = re.compile('python')\n",
    "ptr.sub('C',tar)"
   ]
  },
  {
   "cell_type": "code",
   "execution_count": 15,
   "metadata": {},
   "outputs": [
    {
     "data": {
      "text/plain": [
       "['python', 'python']"
      ]
     },
     "execution_count": 15,
     "metadata": {},
     "output_type": "execute_result"
    }
   ],
   "source": [
    "tar = \"python program python lang\"\n",
    "ptr = re.compile('python')\n",
    "ptr.findall(tar)"
   ]
  },
  {
   "cell_type": "code",
   "execution_count": 18,
   "metadata": {},
   "outputs": [
    {
     "data": {
      "text/plain": [
       "['py', 'pr', 'py', 'p ', 'p1', 'p@']"
      ]
     },
     "execution_count": 18,
     "metadata": {},
     "output_type": "execute_result"
    }
   ],
   "source": [
    "# special character\n",
    "#. ---> to match any single character\n",
    "tar = \"python program python langp p1 p@\"\n",
    "ptr = re.compile(r'p.')\n",
    "ptr.findall(tar)"
   ]
  },
  {
   "cell_type": "code",
   "execution_count": 19,
   "metadata": {},
   "outputs": [
    {
     "data": {
      "text/plain": [
       "['py']"
      ]
     },
     "execution_count": 19,
     "metadata": {},
     "output_type": "execute_result"
    }
   ],
   "source": [
    "# special character\n",
    "# ^ ---> to match any starting of string \n",
    "tar = \"python program python langp p1 p@\"\n",
    "ptr = re.compile(r'^p.')\n",
    "ptr.findall(tar)"
   ]
  },
  {
   "cell_type": "code",
   "execution_count": 20,
   "metadata": {},
   "outputs": [
    {
     "data": {
      "text/plain": [
       "['pyyython', 'pyython', 'python', 'pthon']"
      ]
     },
     "execution_count": 20,
     "metadata": {},
     "output_type": "execute_result"
    }
   ],
   "source": [
    "# * ----> preciding character repeates either 0 or more than 0 times \n",
    "tar = \"pyyython pyython python langp pthon p@\"\n",
    "ptr = re.compile(r'py*thon')\n",
    "ptr.findall(tar)"
   ]
  },
  {
   "cell_type": "code",
   "execution_count": 22,
   "metadata": {},
   "outputs": [
    {
     "data": {
      "text/plain": [
       "['pyyython', 'pyython', 'python']"
      ]
     },
     "execution_count": 22,
     "metadata": {},
     "output_type": "execute_result"
    }
   ],
   "source": [
    "# + ----> preciding character repeates either 1 or more than 1 times \n",
    "tar = \"pyyython pyython python langp pthon p@\"\n",
    "ptr = re.compile(r'py+thon')\n",
    "ptr.findall(tar)"
   ]
  },
  {
   "cell_type": "code",
   "execution_count": 23,
   "metadata": {},
   "outputs": [
    {
     "data": {
      "text/plain": [
       "['python', 'pthon']"
      ]
     },
     "execution_count": 23,
     "metadata": {},
     "output_type": "execute_result"
    }
   ],
   "source": [
    "# ? ----> preciding character repeates either 0 or 1 time \n",
    "tar = \"pyyython pyython python langp pthon p@\"\n",
    "ptr = re.compile(r'py?thon')\n",
    "ptr.findall(tar)"
   ]
  },
  {
   "cell_type": "code",
   "execution_count": 24,
   "metadata": {},
   "outputs": [
    {
     "data": {
      "text/plain": [
       "['pyython', 'pyython']"
      ]
     },
     "execution_count": 24,
     "metadata": {},
     "output_type": "execute_result"
    }
   ],
   "source": [
    "# {n}----> preciding character repeates exactly n time\n",
    "tar = \"pyyython pyython python pyython langp pthon p@\"\n",
    "ptr = re.compile(r'py{2}thon')\n",
    "ptr.findall(tar)"
   ]
  },
  {
   "cell_type": "code",
   "execution_count": 26,
   "metadata": {},
   "outputs": [
    {
     "data": {
      "text/plain": [
       "['pyython', 'python', 'pyython']"
      ]
     },
     "execution_count": 26,
     "metadata": {},
     "output_type": "execute_result"
    }
   ],
   "source": [
    "# {m,n}----> preciding character repeates between n time to m times\n",
    "tar = \"pyyython pyython python pyython langp pthon p@\"\n",
    "ptr = re.compile(r'py{1,2}thon')\n",
    "ptr.findall(tar)"
   ]
  },
  {
   "cell_type": "code",
   "execution_count": 37,
   "metadata": {},
   "outputs": [
    {
     "data": {
      "text/plain": [
       "['pa', 'p1']"
      ]
     },
     "execution_count": 37,
     "metadata": {},
     "output_type": "execute_result"
    }
   ],
   "source": [
    "# [0-9]---> match only any one single digits\n",
    "# [a-z]---> match only any one single small aplhabet\n",
    "# [A-Z]---> match only one one single  upper alphabet\n",
    "\n",
    "tar = \"py pa p1 p@ pY\"\n",
    "ptr = re.compile(r'p[1a]')\n",
    "ptr.findall(tar)"
   ]
  },
  {
   "cell_type": "code",
   "execution_count": 42,
   "metadata": {},
   "outputs": [
    {
     "data": {
      "text/plain": [
       "['py', 'pa']"
      ]
     },
     "execution_count": 42,
     "metadata": {},
     "output_type": "execute_result"
    }
   ],
   "source": [
    "\n",
    "tar = \"py pa p1 p@ pY\"\n",
    "ptr = re.compile(r'py|pa')\n",
    "ptr.findall(tar)"
   ]
  },
  {
   "cell_type": "code",
   "execution_count": 43,
   "metadata": {},
   "outputs": [
    {
     "data": {
      "text/plain": [
       "['p1', 'p5']"
      ]
     },
     "execution_count": 43,
     "metadata": {},
     "output_type": "execute_result"
    }
   ],
   "source": [
    "# \\d ---> match only digits \n",
    "tar = \"py pa p1 p@ pY p5\"\n",
    "ptr = re.compile(r'p\\d')\n",
    "ptr.findall(tar)"
   ]
  },
  {
   "cell_type": "code",
   "execution_count": 44,
   "metadata": {},
   "outputs": [
    {
     "data": {
      "text/plain": [
       "['py', 'pa', 'p@', 'pY']"
      ]
     },
     "execution_count": 44,
     "metadata": {},
     "output_type": "execute_result"
    }
   ],
   "source": [
    "# \\D---> match only character except digit \n",
    "tar = \"py pa p1 p@ pY p5\"\n",
    "ptr = re.compile(r'p\\D')\n",
    "ptr.findall(tar)"
   ]
  },
  {
   "cell_type": "code",
   "execution_count": 45,
   "metadata": {},
   "outputs": [
    {
     "data": {
      "text/plain": [
       "['p ']"
      ]
     },
     "execution_count": 45,
     "metadata": {},
     "output_type": "execute_result"
    }
   ],
   "source": [
    "# \\s ---> match only whitespace\n",
    "tar = \"py pa p1 p@ pY p5 p \"\n",
    "ptr = re.compile(r'p\\s')\n",
    "ptr.findall(tar)"
   ]
  },
  {
   "cell_type": "code",
   "execution_count": 46,
   "metadata": {},
   "outputs": [
    {
     "data": {
      "text/plain": [
       "['py', 'pa', 'p1', 'p@', 'pY', 'p5']"
      ]
     },
     "execution_count": 46,
     "metadata": {},
     "output_type": "execute_result"
    }
   ],
   "source": [
    "# \\S ---> match only single any charaacter except  whitespace\n",
    "tar = \"py pa p1 p@ pY p5 p \"\n",
    "ptr = re.compile(r'p\\S')\n",
    "ptr.findall(tar)"
   ]
  },
  {
   "cell_type": "code",
   "execution_count": 47,
   "metadata": {},
   "outputs": [
    {
     "data": {
      "text/plain": [
       "['py', 'pa', 'p1', 'pY', 'p5']"
      ]
     },
     "execution_count": 47,
     "metadata": {},
     "output_type": "execute_result"
    }
   ],
   "source": [
    "# \\w ---> match only either alphabets and digits \n",
    "tar = \"py pa p1 p@ pY p5 p \"\n",
    "ptr = re.compile(r'p\\w')\n",
    "ptr.findall(tar)"
   ]
  },
  {
   "cell_type": "code",
   "execution_count": 48,
   "metadata": {},
   "outputs": [
    {
     "data": {
      "text/plain": [
       "['p@', 'p ']"
      ]
     },
     "execution_count": 48,
     "metadata": {},
     "output_type": "execute_result"
    }
   ],
   "source": [
    "# \\W ---> match only  any single character e\n",
    "# except either alphabets and digits \n",
    "tar = \"py pa p1 p@ pY p5 p \"\n",
    "ptr = re.compile(r'p\\W')\n",
    "ptr.findall(tar)"
   ]
  },
  {
   "cell_type": "code",
   "execution_count": 51,
   "metadata": {},
   "outputs": [
    {
     "name": "stdout",
     "output_type": "stream",
     "text": [
      "['anjan@gmail.com']\n",
      "['9640987960']\n"
     ]
    }
   ],
   "source": [
    "str = \"this is my mail id anjan@gmail.com and phone number 9640987960jk\"\n",
    "mail = re.compile(r'\\w*@\\w*.com')\n",
    "print(mail.findall(str))\n",
    "phone= re.compile(r'\\d{10}')\n",
    "print(phone.findall(str))"
   ]
  }
 ],
 "metadata": {
  "kernelspec": {
   "display_name": "Python 3",
   "language": "python",
   "name": "python3"
  },
  "language_info": {
   "codemirror_mode": {
    "name": "ipython",
    "version": 3
   },
   "file_extension": ".py",
   "mimetype": "text/x-python",
   "name": "python",
   "nbconvert_exporter": "python",
   "pygments_lexer": "ipython3",
   "version": "3.7.3"
  }
 },
 "nbformat": 4,
 "nbformat_minor": 2
}
