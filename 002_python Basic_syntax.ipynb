{
 "cells": [
  {
   "cell_type": "markdown",
   "metadata": {},
   "source": [
    "# python Basic_syntax\n",
    "\n",
    "---> Instructions\n",
    "        \n",
    "        1. Types \n",
    "        \n",
    "---> Python Names\n",
    "\n",
    "        1. types\n",
    "---> Python variables \n",
    "\n",
    "---> Python Datatypes \n",
    "\n",
    "        1. Types"
   ]
  },
  {
   "cell_type": "markdown",
   "metadata": {},
   "source": [
    "# syntax :-\n",
    "--------------\n",
    "\n",
    "---> The structure for writing an instruction\n",
    "\n",
    "---> The rules for instruction\n"
   ]
  },
  {
   "cell_type": "markdown",
   "metadata": {},
   "source": [
    "# Instruction\n",
    "\n",
    "----> The line of code with in the program is called instruction\n",
    "\n",
    "---> There are 2 types of instructions \n",
    "\n",
    "        1. Comments  :\n",
    "        \n",
    "                ---> An instruction it can't be executable \n",
    "                ---> Hiding an instruction instead of executing by cpu\n",
    "                ---> To give the breif explanation for each and every statement\n",
    "                \n",
    "                1. single line comment ( # )\n",
    "                \n",
    "                2. multiline comment ( '''  ''')\n",
    "        \n",
    "        2. Statement :\n",
    "        \n",
    "                ---> An instruction which can be executable by cpu\n",
    "                ---> Statements are used for doing any specific task\n",
    "                \n",
    "                1. single statement\n",
    "                2. Multiple \"\"\"\"\"\"\n",
    "                3. Multiline \"\"\"\"\"\n",
    "                4. Compound statement\n"
   ]
  },
  {
   "cell_type": "code",
   "execution_count": 1,
   "metadata": {},
   "outputs": [
    {
     "name": "stdout",
     "output_type": "stream",
     "text": [
      "hello\n",
      "hai\n",
      "bye\n",
      "hello\n"
     ]
    }
   ],
   "source": [
    "# single statement\n",
    "print(\"hello\") # a single line having single executbale instruction\n",
    "\n",
    "# Multiple statement\n",
    "'''\n",
    "A single line having more than 1 executbale instruction\n",
    "'''\n",
    "print(\"hai\");print(\"bye\") ;print(\"hello\")"
   ]
  },
  {
   "cell_type": "code",
   "execution_count": 2,
   "metadata": {},
   "outputs": [
    {
     "name": "stdout",
     "output_type": "stream",
     "text": [
      "hello\n",
      "hai \n",
      "bye\n",
      "\n"
     ]
    }
   ],
   "source": [
    "# multiline statement\n",
    "'''\n",
    "A single executable instruction may continue more than one line\n",
    "'''\n",
    "print(\"\"\"hello\n",
    "hai \n",
    "bye\n",
    "\"\"\")"
   ]
  },
  {
   "cell_type": "code",
   "execution_count": 9,
   "metadata": {},
   "outputs": [
    {
     "name": "stdout",
     "output_type": "stream",
     "text": [
      "hello\n",
      "hai\n",
      "bye\n",
      "hell \n",
      "    hai \n",
      "    bye\n"
     ]
    }
   ],
   "source": [
    "# compound statement\n",
    "\n",
    "'''\n",
    "A group of instructions we can write with in block\n",
    "\n",
    "---> functions\n",
    "---> conditional\n",
    "---> loops\n",
    "---> classes \n",
    "'''\n",
    "if(True):\n",
    "    print(\"hello\")  # single statement\n",
    "    print(\"hai\");print(\"bye\")  # multple statement\n",
    "    # multiline statement\n",
    "    print(\"\"\"hell \n",
    "    hai \n",
    "    bye\"\"\")\n"
   ]
  },
  {
   "cell_type": "markdown",
   "metadata": {},
   "source": [
    "# Python Names\n",
    "\n",
    "---> Python having 2 types of names \n",
    "\n",
    "1.  keywords\n",
    "\n",
    "    --->  keywords are predefined words \n",
    "    \n",
    "    --->  Built-in Words \n",
    "    \n",
    "    --->  Each and every keywords which having its own specific task\n",
    "    \n",
    "    --->  python 3 ---> 35\n",
    "    \n",
    "    --->  python 2 ---> 31\n",
    "    \n",
    "\n",
    "2. Identifiers\n",
    "\n",
    "    --->  Used Defined / Programmer Defined \n",
    "    \n",
    "    --->  To identify the Variables , functions, classes with proper names\n",
    "    \n",
    "    Rules  :\n",
    "    --------\n",
    "    \n",
    "    --->  We can use alphabets   a-z / A-Z\n",
    "    \n",
    "    --->  we can use digits  0-9\n",
    "    \n",
    "    --->  we can use underscore _\n",
    "    \n",
    "    --->  don't use digts as 1st letter of identifers\n",
    "    \n",
    "    ---> don't use keywords \n",
    "    \n",
    "    ---> don't use special character"
   ]
  },
  {
   "cell_type": "code",
   "execution_count": 10,
   "metadata": {},
   "outputs": [
    {
     "name": "stdout",
     "output_type": "stream",
     "text": [
      "35\n",
      "['False', 'None', 'True', 'and', 'as', 'assert', 'async', 'await', 'break', 'class', 'continue', 'def', 'del', 'elif', 'else', 'except', 'finally', 'for', 'from', 'global', 'if', 'import', 'in', 'is', 'lambda', 'nonlocal', 'not', 'or', 'pass', 'raise', 'return', 'try', 'while', 'with', 'yield']\n"
     ]
    }
   ],
   "source": [
    "import keyword\n",
    "print(len(keyword.kwlist))\n",
    "print(keyword.kwlist)\n"
   ]
  },
  {
   "cell_type": "markdown",
   "metadata": {},
   "source": [
    "# Python variables \n",
    "-----------------------\n",
    "\n",
    "--->Variables are the names which are used for to reference the memory location based on the data\n",
    "\n",
    "---> Based on new data , the memory loc can change\n",
    "\n",
    "---> we don't need to declare the variable"
   ]
  },
  {
   "cell_type": "code",
   "execution_count": 11,
   "metadata": {},
   "outputs": [
    {
     "data": {
      "text/plain": [
       "140707722794144"
      ]
     },
     "execution_count": 11,
     "metadata": {},
     "output_type": "execute_result"
    }
   ],
   "source": [
    "id(12)"
   ]
  },
  {
   "cell_type": "code",
   "execution_count": 12,
   "metadata": {},
   "outputs": [
    {
     "data": {
      "text/plain": [
       "140707722794496"
      ]
     },
     "execution_count": 12,
     "metadata": {},
     "output_type": "execute_result"
    }
   ],
   "source": [
    "id(23)"
   ]
  },
  {
   "cell_type": "code",
   "execution_count": 14,
   "metadata": {},
   "outputs": [
    {
     "name": "stdout",
     "output_type": "stream",
     "text": [
      "140707722794144\n",
      "140707722794496\n"
     ]
    }
   ],
   "source": [
    "var = 12\n",
    "print(id(var))\n",
    "var = 23\n",
    "print(id(var))"
   ]
  },
  {
   "cell_type": "markdown",
   "metadata": {},
   "source": [
    "# Python datatypes \n",
    "---------------------\n",
    "\n",
    "---> Data types are used for to specify the what type of data holded \n",
    "\n",
    "---> ALL Datatypes are the predefined class ---( object)\n",
    "\n",
    "---> There are 2 types Datatypes\n",
    "\n",
    "        1. Fundamental Datatype\n",
    "        \n",
    "        2. Seqencial Datatype\n",
    "\n",
    "# Fundametal datatype\n",
    "\n",
    "----> A single variable can hold single data elements "
   ]
  },
  {
   "cell_type": "code",
   "execution_count": 2,
   "metadata": {},
   "outputs": [
    {
     "name": "stdout",
     "output_type": "stream",
     "text": [
      "var =  123        <class 'int'>\n",
      "var =  12.983      <class 'float'>\n",
      "var =  (1+7j)      <class 'complex'>\n",
      "var =  True      <class 'bool'>\n",
      "var =  False      <class 'bool'>\n",
      "var =  None      <class 'NoneType'>\n"
     ]
    }
   ],
   "source": [
    "# fundametal daata\n",
    "var = 123\n",
    "print(\"var = \",var,\"      \",type(var))\n",
    "var = 12.983\n",
    "print(\"var = \",var,\"    \",type(var))\n",
    "var = 1+7j  #  x+yj  ----> complex \n",
    "print(\"var = \",var,\"    \",type(var))\n",
    "var = True\n",
    "print(\"var = \",var,\"    \",type(var))\n",
    "var = False\n",
    "print(\"var = \",var,\"    \",type(var))\n",
    "var = None\n",
    "print(\"var = \",var,\"    \",type(var))"
   ]
  },
  {
   "cell_type": "markdown",
   "metadata": {},
   "source": [
    "# Seqencial Datatype\n",
    "\n",
    "---> A single variable can hold multiple data elements\n"
   ]
  },
  {
   "cell_type": "code",
   "execution_count": 3,
   "metadata": {},
   "outputs": [
    {
     "name": "stdout",
     "output_type": "stream",
     "text": [
      "var =  python      <class 'str'>\n",
      "var =  [123, 34, 56]      <class 'list'>\n",
      "var =  (123, 34, 5)      <class 'tuple'>\n",
      "var =  {123, 45, 6}      <class 'set'>\n",
      "var =  {12: 'sio', 56: 'jjfgj'}      <class 'dict'>\n"
     ]
    }
   ],
   "source": [
    "var = 'python'\n",
    "print(\"var = \",var,\"    \",type(var))\n",
    "var = [123,34,56]\n",
    "print(\"var = \",var,\"    \",type(var))\n",
    "var = (123,34,5)\n",
    "print(\"var = \",var,\"    \",type(var))\n",
    "var = {123,45,6}\n",
    "print(\"var = \",var,\"    \",type(var))\n",
    "var = {12: 'sio', 56:\"jjfgj\"}\n",
    "print(\"var = \",var,\"    \",type(var))"
   ]
  }
 ],
 "metadata": {
  "kernelspec": {
   "display_name": "Python 3",
   "language": "python",
   "name": "python3"
  },
  "language_info": {
   "codemirror_mode": {
    "name": "ipython",
    "version": 3
   },
   "file_extension": ".py",
   "mimetype": "text/x-python",
   "name": "python",
   "nbconvert_exporter": "python",
   "pygments_lexer": "ipython3",
   "version": "3.7.3"
  }
 },
 "nbformat": 4,
 "nbformat_minor": 2
}
