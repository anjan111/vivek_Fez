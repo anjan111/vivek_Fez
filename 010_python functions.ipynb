{
 "cells": [
  {
   "cell_type": "markdown",
   "metadata": {},
   "source": [
    "# function\n",
    "\n",
    "---> Function is a set of statements to do any one specific task\n",
    "\n",
    "# built in function\n",
    "\n",
    "---> the function which are defined inside of the python\n",
    "\n",
    "int() , float,str(),input()\n",
    "\n",
    "# user defined \n",
    "\n",
    "---> the functionswhich are defined by programmer\n",
    "\n",
    "# def is a keyword which can used for to define "
   ]
  },
  {
   "cell_type": "code",
   "execution_count": null,
   "metadata": {},
   "outputs": [],
   "source": [
    "\n",
    "# function defination syntax\n",
    "def fun_name():\n",
    "    task\n",
    "    ----\n",
    "    -----"
   ]
  },
  {
   "cell_type": "code",
   "execution_count": null,
   "metadata": {},
   "outputs": [],
   "source": [
    "# python program structure\n",
    "\n",
    "def user_def():\n",
    "    task\n",
    "    ----\n",
    "def main():\n",
    "    task\n",
    "    ----\n",
    "    -----\n",
    "if __name__ ==\"__main__\":\n",
    "    main()"
   ]
  },
  {
   "cell_type": "code",
   "execution_count": 7,
   "metadata": {},
   "outputs": [
    {
     "name": "stdout",
     "output_type": "stream",
     "text": [
      "i am before the main block\n",
      "1st main block\n",
      "2nd main function\n",
      "3rd iseven \n",
      "enter a num :45\n",
      "its not even number\n",
      "4th mail fun\n",
      "5th last main block\n"
     ]
    }
   ],
   "source": [
    "# waf given number is even number\n",
    "def iseven():  # function defination\n",
    "    print(\"3rd iseven \")\n",
    "    num =int(input(\"enter a num :\"))\n",
    "    \n",
    "    if(num%2 == 0):\n",
    "        print(\"its even \")\n",
    "    else:\n",
    "        print(\"its not even number\")\n",
    "def main():\n",
    "    print(\"2nd main function\")\n",
    "    iseven()  # function call\n",
    "    print(\"4th mail fun\")\n",
    "#print(\"i am before the main block\")\n",
    "if __name__ ==\"__main__\":\n",
    "    print(\"1st main block\")\n",
    "    main()\n",
    "    print(\"5th last main block\")"
   ]
  },
  {
   "cell_type": "code",
   "execution_count": null,
   "metadata": {},
   "outputs": [],
   "source": [
    "# arguments\n",
    "\n",
    "---> we can send the data from functionc call to function defination"
   ]
  },
  {
   "cell_type": "code",
   "execution_count": 11,
   "metadata": {},
   "outputs": [
    {
     "name": "stdout",
     "output_type": "stream",
     "text": [
      "1st main block\n",
      "2nd main function\n",
      "enter a num :12\n",
      "3rd iseven \n",
      "its even \n",
      "4th mail fun\n",
      "5th last main block\n"
     ]
    }
   ],
   "source": [
    "# waf given number is even number\n",
    "def iseven(num):  # function defination\n",
    "    print(\"3rd iseven \")\n",
    "    \n",
    "    \n",
    "    if(num%2 == 0):\n",
    "        print(\"its even \")\n",
    "    else:\n",
    "        print(\"its not even number\")\n",
    "def main():\n",
    "    print(\"2nd main function\")\n",
    "    num =int(input(\"enter a num :\"))\n",
    "    iseven(num)  # function call\n",
    "    print(\"4th mail fun\")\n",
    "#print(\"i am before the main block\")\n",
    "if __name__ ==\"__main__\":\n",
    "    print(\"1st main block\")\n",
    "    main()\n",
    "    print(\"5th last main block\")"
   ]
  },
  {
   "cell_type": "code",
   "execution_count": 15,
   "metadata": {},
   "outputs": [
    {
     "name": "stdout",
     "output_type": "stream",
     "text": [
      "1st main block\n",
      "2nd main function\n",
      "enter a num :12\n",
      "3rd iseven \n",
      "its even \n",
      "4th mail fun\n",
      "5th last main block\n"
     ]
    }
   ],
   "source": [
    "# waf given number is even number\n",
    "# default argumet\n",
    "def iseven(num =12):  # function defination\n",
    "    print(\"3rd iseven \")  \n",
    "    if(num%2 == 0):\n",
    "        print(\"its even \")\n",
    "    else:\n",
    "        print(\"its not even number\")\n",
    "def main():\n",
    "    print(\"2nd main function\")\n",
    "    num =int(input(\"enter a num :\"))\n",
    "    iseven(num)  # function call\n",
    "    print(\"4th mail fun\")\n",
    "#print(\"i am before the main block\")\n",
    "if __name__ ==\"__main__\":\n",
    "    print(\"1st main block\")\n",
    "    main()\n",
    "    print(\"5th last main block\")"
   ]
  },
  {
   "cell_type": "code",
   "execution_count": null,
   "metadata": {},
   "outputs": [],
   "source": [
    "# return\n",
    "# ---> function definatio to functioncall"
   ]
  },
  {
   "cell_type": "code",
   "execution_count": 25,
   "metadata": {},
   "outputs": [
    {
     "name": "stdout",
     "output_type": "stream",
     "text": [
      "enter a num :88\n",
      "is even :  True\n"
     ]
    }
   ],
   "source": [
    "# waf given number is even number\n",
    "# default argumet\n",
    "def iseven(num =12):  # function defination\n",
    "    return num % 2 == 0\n",
    "def main():\n",
    "    num =int(input(\"enter a num :\"))\n",
    "    print(\"is even : \",iseven(num))  # function call\n",
    "if __name__ ==\"__main__\":\n",
    "    main()\n",
    "    "
   ]
  },
  {
   "cell_type": "code",
   "execution_count": 34,
   "metadata": {},
   "outputs": [
    {
     "name": "stdout",
     "output_type": "stream",
     "text": [
      "num 10\n"
     ]
    }
   ],
   "source": [
    "def fun(num =10):\n",
    "    print(\"num\",num)\n",
    "fun()"
   ]
  },
  {
   "cell_type": "code",
   "execution_count": 38,
   "metadata": {},
   "outputs": [
    {
     "name": "stdout",
     "output_type": "stream",
     "text": [
      "enter num : 10\n",
      "factor :  1\n",
      "factor :  2\n",
      "factor :  5\n",
      "factor :  10\n",
      "no of factors :  4\n"
     ]
    }
   ],
   "source": [
    "# waf find the no of factor\n",
    "def no_fact(num  = 10):\n",
    "    count = 0\n",
    "    for i in range(1,num+1):\n",
    "        if(num % i == 0):\n",
    "            print(\"factor : \",i)\n",
    "            count+= 1\n",
    "    return count\n",
    "\n",
    "def main():\n",
    "    num = int(input(\"enter num : \"))\n",
    "    print(\"no of factors : \",no_fact(num))\n",
    "if __name__ ==\"__main__\":\n",
    "    main()"
   ]
  },
  {
   "cell_type": "code",
   "execution_count": null,
   "metadata": {},
   "outputs": [],
   "source": [
    "#wap find given number is prime no or not"
   ]
  }
 ],
 "metadata": {
  "kernelspec": {
   "display_name": "Python 3",
   "language": "python",
   "name": "python3"
  },
  "language_info": {
   "codemirror_mode": {
    "name": "ipython",
    "version": 3
   },
   "file_extension": ".py",
   "mimetype": "text/x-python",
   "name": "python",
   "nbconvert_exporter": "python",
   "pygments_lexer": "ipython3",
   "version": "3.7.3"
  }
 },
 "nbformat": 4,
 "nbformat_minor": 2
}
