{
 "cells": [
  {
   "cell_type": "markdown",
   "metadata": {},
   "source": [
    "# Function :\n",
    "-------------\n",
    "\n",
    "---> Function is set of statements to do any one specific task\n",
    "\n",
    "# user defined functions\n",
    "\n",
    "---> The functions can implimented by programmer \n",
    "\n",
    "# built - in functions\n",
    "\n",
    "---> The functions which are already defined in side of python interpreter\n",
    "\n",
    "# input functions \n",
    "\n",
    "        ---> to read the data from keyboard \n",
    "        \n",
    "        --->  input() ---> in case python3  result datatype is str \\\n",
    "        \n",
    "        ---> input() ---> in case python2 result is inputdatatype\n",
    "        \n",
    "        --> raw_input() --> in python3 its not defined \n",
    "        \n",
    "        ---> raw_input() --> in case python2  result datatype is str \n",
    "        \n",
    "# ouput function\n",
    "\n",
    "        ---> to display the data on monitor\n",
    "        \n",
    "        ---> print( ) # python3 print is a function\n",
    "        \n",
    "        ---> print  # python2 print is a keyword\n",
    "        \n",
    "        \n",
    "# type () ---> to know the data type of any variable\n",
    "\n",
    "# id () ----> to know the memory location\n"
   ]
  },
  {
   "cell_type": "code",
   "execution_count": 1,
   "metadata": {},
   "outputs": [
    {
     "name": "stdout",
     "output_type": "stream",
     "text": [
      "enter data from keyboard : 123\n",
      "data in var :  123\n",
      "<class 'str'>\n",
      "985266384944\n"
     ]
    }
   ],
   "source": [
    "var = input(\"enter data from keyboard : \")\n",
    "print(\"data in var : \",var)\n",
    "print(type(var))\n",
    "print(id(var))"
   ]
  },
  {
   "cell_type": "code",
   "execution_count": 2,
   "metadata": {},
   "outputs": [
    {
     "name": "stdout",
     "output_type": "stream",
     "text": [
      "enter data from keyboard : 78.56465\n",
      "data in var :  78.56465\n",
      "<class 'str'>\n",
      "985266378608\n"
     ]
    }
   ],
   "source": [
    "var = input(\"enter data from keyboard : \")\n",
    "print(\"data in var : \",var)\n",
    "print(type(var))\n",
    "print(id(var))"
   ]
  },
  {
   "cell_type": "code",
   "execution_count": 3,
   "metadata": {},
   "outputs": [
    {
     "name": "stdout",
     "output_type": "stream",
     "text": [
      "enter data from keyboard : 4+5j\n",
      "data in var :  4+5j\n",
      "<class 'str'>\n",
      "985266255720\n"
     ]
    }
   ],
   "source": [
    "var = input(\"enter data from keyboard : \")\n",
    "print(\"data in var : \",var)\n",
    "print(type(var))\n",
    "print(id(var))"
   ]
  },
  {
   "cell_type": "code",
   "execution_count": 4,
   "metadata": {},
   "outputs": [
    {
     "name": "stdout",
     "output_type": "stream",
     "text": [
      "enter data from keyboard : True\n",
      "data in var :  True\n",
      "<class 'str'>\n",
      "985266384944\n"
     ]
    }
   ],
   "source": [
    "var = input(\"enter data from keyboard : \")\n",
    "print(\"data in var : \",var)\n",
    "print(type(var))\n",
    "print(id(var))"
   ]
  },
  {
   "cell_type": "code",
   "execution_count": 5,
   "metadata": {},
   "outputs": [
    {
     "name": "stdout",
     "output_type": "stream",
     "text": [
      "enter data from keyboard : None\n",
      "data in var :  None\n",
      "<class 'str'>\n",
      "985266385392\n"
     ]
    }
   ],
   "source": [
    "var = input(\"enter data from keyboard : \")\n",
    "print(\"data in var : \",var)\n",
    "print(type(var))\n",
    "print(id(var))"
   ]
  },
  {
   "cell_type": "code",
   "execution_count": 6,
   "metadata": {},
   "outputs": [
    {
     "name": "stdout",
     "output_type": "stream",
     "text": [
      "enter data from keyboard : 'posfsff'\n",
      "data in var :  'posfsff'\n",
      "<class 'str'>\n",
      "985266379440\n"
     ]
    }
   ],
   "source": [
    "var = input(\"enter data from keyboard : \")\n",
    "print(\"data in var : \",var)\n",
    "print(type(var))\n",
    "print(id(var))"
   ]
  },
  {
   "cell_type": "code",
   "execution_count": 7,
   "metadata": {},
   "outputs": [
    {
     "name": "stdout",
     "output_type": "stream",
     "text": [
      "enter data from keyboard : [12,34,55]\n",
      "data in var :  [12,34,55]\n",
      "<class 'str'>\n",
      "985266380656\n"
     ]
    }
   ],
   "source": [
    "var = input(\"enter data from keyboard : \")\n",
    "print(\"data in var : \",var)\n",
    "print(type(var))\n",
    "print(id(var))"
   ]
  },
  {
   "cell_type": "code",
   "execution_count": 8,
   "metadata": {},
   "outputs": [
    {
     "name": "stdout",
     "output_type": "stream",
     "text": [
      "enter data from keyboard : (12,343,4)\n",
      "data in var :  (12,343,4)\n",
      "<class 'str'>\n",
      "985253212912\n"
     ]
    }
   ],
   "source": [
    "var = input(\"enter data from keyboard : \")\n",
    "print(\"data in var : \",var)\n",
    "print(type(var))\n",
    "print(id(var))"
   ]
  },
  {
   "cell_type": "code",
   "execution_count": 9,
   "metadata": {},
   "outputs": [
    {
     "name": "stdout",
     "output_type": "stream",
     "text": [
      "enter data from keyboard : {12,343,45}\n",
      "data in var :  {12,343,45}\n",
      "<class 'str'>\n",
      "985253213616\n"
     ]
    }
   ],
   "source": [
    "var = input(\"enter data from keyboard : \")\n",
    "print(\"data in var : \",var)\n",
    "print(type(var))\n",
    "print(id(var))"
   ]
  },
  {
   "cell_type": "code",
   "execution_count": 10,
   "metadata": {},
   "outputs": [
    {
     "name": "stdout",
     "output_type": "stream",
     "text": [
      "enter data from keyboard : {12:\"dbf\",56:\"jkfrjk\"}\n",
      "data in var :  {12:\"dbf\",56:\"jkfrjk\"}\n",
      "<class 'str'>\n",
      "985253164352\n"
     ]
    }
   ],
   "source": [
    "var = input(\"enter data from keyboard : \")\n",
    "print(\"data in var : \",var)\n",
    "print(type(var))\n",
    "print(id(var))"
   ]
  },
  {
   "cell_type": "markdown",
   "metadata": {},
   "source": [
    "# datatype conversion\n",
    "\n",
    "---> to convert any data type to specific datatype \n",
    "\n",
    "enter string int       ====>>>     int ()       ===> int daata\n",
    "\n",
    "enter string float      ====>>>   float  ()    ===> float daata\n",
    "\n",
    "enter string bool       ====>>>   bool ()    ===> bool daata\n",
    "\n",
    "enter string complex     ====>>>   complex ()    ===> complex daata\n",
    "\n",
    "enter string str ====>>>  str ()    ===> str daata\n",
    "\n",
    "enter string list ====>>>   list ()    ===> list daata\n",
    "\n",
    "enter string set ====>>>   set ()    ===> set daata\n",
    "\n",
    "enter string tuple ====>>>   tuple ()    ===> tuple daata\n",
    "\n",
    "enter string dict ====>>>   dict ()    ===> dict daata"
   ]
  },
  {
   "cell_type": "code",
   "execution_count": 11,
   "metadata": {},
   "outputs": [
    {
     "name": "stdout",
     "output_type": "stream",
     "text": [
      "enter int data from keyboard : 789\n",
      "data in var :  789\n",
      "<class 'str'>\n",
      "985253254008\n",
      "data in var :  789\n",
      "<class 'int'>\n",
      "985266230192\n"
     ]
    }
   ],
   "source": [
    "var = input(\"enter int data from keyboard : \")\n",
    "print(\"data in var : \",var)\n",
    "print(type(var))\n",
    "print(id(var))\n",
    "\n",
    "var = int(var)\n",
    "print(\"data in var : \",var)\n",
    "print(type(var))\n",
    "print(id(var))\n"
   ]
  },
  {
   "cell_type": "code",
   "execution_count": 12,
   "metadata": {},
   "outputs": [
    {
     "name": "stdout",
     "output_type": "stream",
     "text": [
      "enter float data from keyboard : 78.78\n",
      "data in var :  78.78\n",
      "<class 'str'>\n",
      "985253254736\n",
      "data in var :  78.78\n",
      "<class 'float'>\n",
      "985265849544\n"
     ]
    }
   ],
   "source": [
    "var = input(\"enter float data from keyboard : \")\n",
    "print(\"data in var : \",var)\n",
    "print(type(var))\n",
    "print(id(var))\n",
    "\n",
    "var = float(var)\n",
    "print(\"data in var : \",var)\n",
    "print(type(var))\n",
    "print(id(var))\n"
   ]
  }
 ],
 "metadata": {
  "kernelspec": {
   "display_name": "Python 3",
   "language": "python",
   "name": "python3"
  },
  "language_info": {
   "codemirror_mode": {
    "name": "ipython",
    "version": 3
   },
   "file_extension": ".py",
   "mimetype": "text/x-python",
   "name": "python",
   "nbconvert_exporter": "python",
   "pygments_lexer": "ipython3",
   "version": "3.7.3"
  }
 },
 "nbformat": 4,
 "nbformat_minor": 2
}
