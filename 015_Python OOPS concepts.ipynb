{
 "cells": [
  {
   "cell_type": "markdown",
   "metadata": {},
   "source": [
    "# Object Oriented Programming Language \n",
    "\n",
    "----> If any Programming Langage is follows the following Features \n",
    "\n",
    "        1. Data hiding \n",
    "        \n",
    "        2. Data Encapsulation\n",
    "        \n",
    "        3. Methode/operator --> overridding / OverLoading \n",
    "        \n",
    "        4. Polymorphism\n",
    "        \n",
    "        5. Inheritance \n",
    "        \n",
    "---> If any PL is having the  following concepts  then that Particular Programming Is \n",
    "\n",
    "        1. class\n",
    "        \n",
    "        2. object\n",
    "        \n",
    "        3. methods \n",
    "        \n",
    "        4. constructor \n",
    "        \n",
    "        5. Destroctor "
   ]
  },
  {
   "cell_type": "code",
   "execution_count": null,
   "metadata": {},
   "outputs": [],
   "source": [
    "# class\n",
    "\n",
    "'''\n",
    "----> Class is a logical entity of the of object\n",
    "\n",
    "----> Class is not required the memory location\n",
    "\n",
    "----> Imaginary part of the object \n",
    "'''\n",
    "# syntax\n",
    "\n",
    "'''\n",
    "class   Class_name():\n",
    "        Attribute\n",
    "        ---------\n",
    "        ----------\n",
    "'''\n",
    "\n",
    "# object \n",
    "'''\n",
    "---> It is a physical entity for logical class\n",
    "\n",
    "---> Object is needs memory\n",
    "\n",
    "---> Instance of the class\n",
    "\n",
    "---> the process of the creation of the object is called instantion\n",
    "\n",
    "---> we can creates  multiple objects with same class\n",
    "'''\n",
    "# syntax \n",
    "\n",
    "obj_name = Class_name()"
   ]
  },
  {
   "cell_type": "code",
   "execution_count": 2,
   "metadata": {},
   "outputs": [
    {
     "name": "stdout",
     "output_type": "stream",
     "text": [
      "None\n",
      "None\n",
      "None\n",
      "None\n",
      "Fez\n",
      "None\n",
      "None\n",
      "None\n"
     ]
    }
   ],
   "source": [
    "# wap create the std1 object using Student \n",
    "class Student():\n",
    "    name = None  # attributes\n",
    "    age  = None\n",
    "std1 = Student()\n",
    "std2 = Student()\n",
    "print(std1.name)\n",
    "print(std2.name)\n",
    "print(std1.age)\n",
    "print(std2.age)\n",
    "std1.name ='Fez'\n",
    "print(std1.name)\n",
    "print(std2.name)\n",
    "print(std1.age)\n",
    "print(std2.age)"
   ]
  },
  {
   "cell_type": "code",
   "execution_count": 4,
   "metadata": {
    "scrolled": true
   },
   "outputs": [
    {
     "name": "stdout",
     "output_type": "stream",
     "text": [
      "self :  <__main__.Student object at 0x0000002DB41E4FD0>\n",
      "name :  None\n",
      "age  :  None\n",
      "self :  <__main__.Student object at 0x0000002DB41EF0B8>\n",
      "name :  None\n",
      "age  :  None\n",
      "enter name : fez\n",
      "enter age  : 28\n",
      "enter name : ram\n",
      "enter age  : 27\n",
      "self :  <__main__.Student object at 0x0000002DB41E4FD0>\n",
      "name :  fez\n",
      "age  :  28\n",
      "self :  <__main__.Student object at 0x0000002DB41EF0B8>\n",
      "name :  ram\n",
      "age  :  27\n"
     ]
    }
   ],
   "source": [
    "# methods are same like function ,but\n",
    "# methods are defined in side of class ---> self ---> info obj\n",
    "class Student():\n",
    "    name = None  # attributes\n",
    "    age  = None\n",
    "    def get_det(self):\n",
    "        self.name = input(\"enter name : \")\n",
    "        self.age  = input(\"enter age  : \")\n",
    "    def print_det(self):\n",
    "        print(\"self : \",self)\n",
    "        print(\"name : \",self.name)\n",
    "        print(\"age  : \",self.age)\n",
    "std1 = Student()\n",
    "std2 = Student()\n",
    "std1.print_det()\n",
    "std2.print_det()\n",
    "std1.get_det()\n",
    "std2.get_det()\n",
    "std1.print_det()\n",
    "std2.print_det()\n",
    "\n"
   ]
  },
  {
   "cell_type": "code",
   "execution_count": 5,
   "metadata": {},
   "outputs": [
    {
     "name": "stdout",
     "output_type": "stream",
     "text": [
      "self :  <__main__.Student object at 0x0000002DB41EF320>\n",
      "enter name : Fez\n",
      "enter age  : 28\n",
      "self :  <__main__.Student object at 0x0000002DB41C3A20>\n",
      "enter name : Rahul\n",
      "enter age  : 22\n",
      "self :  <__main__.Student object at 0x0000002DB41EF320>\n",
      "name :  Fez\n",
      "age  :  28\n",
      "self :  <__main__.Student object at 0x0000002DB41C3A20>\n",
      "name :  Rahul\n",
      "age  :  22\n"
     ]
    }
   ],
   "source": [
    "# constructor ---> __init__ ----> name\n",
    "'''\n",
    "__init__ is a special method , it can executed / calls automatically\n",
    "when we are creating the object \n",
    "'''\n",
    "class Student():\n",
    "    def __init__(self):  # constroctor\n",
    "        print(\"self : \",self)\n",
    "        self.name = input(\"enter name : \")\n",
    "        self.age  = input(\"enter age  : \")\n",
    "    def print_det(self):\n",
    "        print(\"self : \",self)\n",
    "        print(\"name : \",self.name)\n",
    "        print(\"age  : \",self.age)\n",
    "std1 = Student()\n",
    "std2 = Student()\n",
    "std1.print_det()\n",
    "std2.print_det()\n"
   ]
  },
  {
   "cell_type": "code",
   "execution_count": 6,
   "metadata": {},
   "outputs": [
    {
     "name": "stdout",
     "output_type": "stream",
     "text": [
      "self :  <__main__.Student object at 0x0000002DB41EF8D0>\n",
      "self :  <__main__.Student object at 0x0000002DB41EF898>\n",
      "self :  <__main__.Student object at 0x0000002DB41EF8D0>\n",
      "name :  Fez\n",
      "age  :  28\n",
      "self :  <__main__.Student object at 0x0000002DB41EF898>\n",
      "name :  Rahul\n",
      "age  :  22\n"
     ]
    }
   ],
   "source": [
    "class Student():\n",
    "    def __init__(self,name,age):  # parameterized constroctor\n",
    "        print(\"self : \",self)\n",
    "        self.name = name\n",
    "        self.age  = age\n",
    "    def print_det(self):\n",
    "        print(\"self : \",self)\n",
    "        print(\"name : \",self.name)\n",
    "        print(\"age  : \",self.age)\n",
    "std1 = Student('Fez',28)\n",
    "std2 = Student('Rahul',22)\n",
    "std1.print_det()\n",
    "std2.print_det()\n"
   ]
  },
  {
   "cell_type": "code",
   "execution_count": 7,
   "metadata": {},
   "outputs": [
    {
     "name": "stdout",
     "output_type": "stream",
     "text": [
      "self :  <__main__.Student object at 0x0000002DB41EFA20>\n",
      "self :  <__main__.Student object at 0x0000002DB41EF9E8>\n",
      "self :  <__main__.Student object at 0x0000002DB41EFA20>\n",
      "name :  Fez\n",
      "age  :  28\n",
      "self :  <__main__.Student object at 0x0000002DB41EF9E8>\n",
      "name :  Rahul\n",
      "age  :  22\n"
     ]
    }
   ],
   "source": [
    "class Student():\n",
    "    def __init__(self,name,age):  # parameterized constroctor\n",
    "        print(\"self : \",self)\n",
    "        self.name = name\n",
    "        self.age  = age\n",
    "    def __del__(self):  # distructor\n",
    "        print(\"self : \",self)\n",
    "        print(\"name : \",self.name)\n",
    "        print(\"age  : \",self.age)\n",
    "std1 = Student('Fez',28)\n",
    "std2 = Student('Rahul',22)\n",
    "del std1\n",
    "del std2\n"
   ]
  },
  {
   "cell_type": "code",
   "execution_count": 1,
   "metadata": {},
   "outputs": [
    {
     "name": "stdout",
     "output_type": "stream",
     "text": [
      "123\n"
     ]
    },
    {
     "ename": "AttributeError",
     "evalue": "'Data_hide' object has no attribute '__v1'",
     "output_type": "error",
     "traceback": [
      "\u001b[1;31m---------------------------------------------------------------------------\u001b[0m",
      "\u001b[1;31mAttributeError\u001b[0m                            Traceback (most recent call last)",
      "\u001b[1;32m<ipython-input-1-2999c30aa606>\u001b[0m in \u001b[0;36m<module>\u001b[1;34m\u001b[0m\n\u001b[0;32m     13\u001b[0m \u001b[0mobj\u001b[0m \u001b[1;33m=\u001b[0m \u001b[0mData_hide\u001b[0m\u001b[1;33m(\u001b[0m\u001b[1;33m)\u001b[0m\u001b[1;33m\u001b[0m\u001b[1;33m\u001b[0m\u001b[0m\n\u001b[0;32m     14\u001b[0m \u001b[0mprint\u001b[0m\u001b[1;33m(\u001b[0m\u001b[0mobj\u001b[0m\u001b[1;33m.\u001b[0m\u001b[0mvar\u001b[0m\u001b[1;33m)\u001b[0m\u001b[1;33m\u001b[0m\u001b[1;33m\u001b[0m\u001b[0m\n\u001b[1;32m---> 15\u001b[1;33m \u001b[0mprint\u001b[0m\u001b[1;33m(\u001b[0m\u001b[0mobj\u001b[0m\u001b[1;33m.\u001b[0m\u001b[0m__v1\u001b[0m\u001b[1;33m)\u001b[0m\u001b[1;33m\u001b[0m\u001b[1;33m\u001b[0m\u001b[0m\n\u001b[0m",
      "\u001b[1;31mAttributeError\u001b[0m: 'Data_hide' object has no attribute '__v1'"
     ]
    }
   ],
   "source": [
    "# data hiding \n",
    "'''\n",
    "===>>  defaultly the  attributes are public attributes \n",
    "===>>  so that we can access class attributes from outside of the class\n",
    "\n",
    "===>> By using data hiding we can make it private attributes\n",
    "==>>  we can't access outside of the class\n",
    "\n",
    "'''\n",
    "class Data_hide():\n",
    "    var  = 123  # public attribute\n",
    "    __v1 = 125  # private attribute\n",
    "obj = Data_hide()\n",
    "print(obj.var)\n",
    "print(obj.__v1)"
   ]
  },
  {
   "cell_type": "code",
   "execution_count": 2,
   "metadata": {},
   "outputs": [
    {
     "name": "stdout",
     "output_type": "stream",
     "text": [
      "123\n",
      "125\n"
     ]
    }
   ],
   "source": [
    "# data encapulation\n",
    "class Data_hide():\n",
    "    var  = 123  # public attribute\n",
    "    __v1 = 125  # private attribute\n",
    "obj = Data_hide()\n",
    "print(obj.var)\n",
    "print(obj._Data_hide__v1) # data encapulation"
   ]
  },
  {
   "cell_type": "code",
   "execution_count": 4,
   "metadata": {},
   "outputs": [
    {
     "name": "stdout",
     "output_type": "stream",
     "text": [
      "two argument\n"
     ]
    },
    {
     "ename": "TypeError",
     "evalue": "fun() missing 1 required positional argument: 'b'",
     "output_type": "error",
     "traceback": [
      "\u001b[1;31m---------------------------------------------------------------------------\u001b[0m",
      "\u001b[1;31mTypeError\u001b[0m                                 Traceback (most recent call last)",
      "\u001b[1;32m<ipython-input-4-7f3689c25cbc>\u001b[0m in \u001b[0;36m<module>\u001b[1;34m\u001b[0m\n\u001b[0;32m      8\u001b[0m \u001b[0mobj\u001b[0m \u001b[1;33m=\u001b[0m \u001b[0mOver_load\u001b[0m\u001b[1;33m(\u001b[0m\u001b[1;33m)\u001b[0m\u001b[1;33m\u001b[0m\u001b[1;33m\u001b[0m\u001b[0m\n\u001b[0;32m      9\u001b[0m \u001b[0mobj\u001b[0m\u001b[1;33m.\u001b[0m\u001b[0mfun\u001b[0m\u001b[1;33m(\u001b[0m\u001b[1;36m10\u001b[0m\u001b[1;33m,\u001b[0m\u001b[1;36m20\u001b[0m\u001b[1;33m)\u001b[0m\u001b[1;33m\u001b[0m\u001b[1;33m\u001b[0m\u001b[0m\n\u001b[1;32m---> 10\u001b[1;33m \u001b[0mobj\u001b[0m\u001b[1;33m.\u001b[0m\u001b[0mfun\u001b[0m\u001b[1;33m(\u001b[0m\u001b[1;36m10\u001b[0m\u001b[1;33m)\u001b[0m\u001b[1;33m\u001b[0m\u001b[1;33m\u001b[0m\u001b[0m\n\u001b[0m",
      "\u001b[1;31mTypeError\u001b[0m: fun() missing 1 required positional argument: 'b'"
     ]
    }
   ],
   "source": [
    "# method overloading is not supported \n",
    "# method overridding is supprted \n",
    "class Over_load():\n",
    "    def fun(self):\n",
    "        print(\"No argument\")\n",
    "    def fun(self,a):\n",
    "        print(\"one argument\")\n",
    "    def fun(self,a,b):\n",
    "        print(\"two argument\")\n",
    "obj = Over_load()\n",
    "obj.fun(10,20)\n",
    "obj.fun(10)\n",
    "obj.fun()\n"
   ]
  },
  {
   "cell_type": "code",
   "execution_count": 5,
   "metadata": {},
   "outputs": [
    {
     "name": "stdout",
     "output_type": "stream",
     "text": [
      "No Arguments\n",
      "one Arguments\n"
     ]
    }
   ],
   "source": [
    "#polymorphism\n",
    "class poly1():\n",
    "    def fun(self):\n",
    "        print(\"No Arguments\")\n",
    "class poly2():\n",
    "    def fun(self,a):\n",
    "        print(\"one Arguments\")\n",
    "obj1 = poly1()\n",
    "obj2 = poly2()\n",
    "obj1.fun()\n",
    "obj2.fun(12)"
   ]
  },
  {
   "cell_type": "code",
   "execution_count": 6,
   "metadata": {},
   "outputs": [
    {
     "name": "stdout",
     "output_type": "stream",
     "text": [
      "i am from Base class\n",
      "I am from Derived class\n"
     ]
    }
   ],
   "source": [
    "# inheritance\n",
    "'''\n",
    "===>>  we can access the one class (Base / parent\n",
    ") property to another(child / Derived ) class\n",
    "'''\n",
    "class Base():\n",
    "    def fun1(self):\n",
    "        print(\"i am from Base class\")\n",
    "class Derived(Base):\n",
    "    def fun2(self):\n",
    "        print(\"I am from Derived class\")\n",
    "obj = Derived()\n",
    "obj.fun1()\n",
    "obj.fun2()"
   ]
  }
 ],
 "metadata": {
  "kernelspec": {
   "display_name": "Python 3",
   "language": "python",
   "name": "python3"
  },
  "language_info": {
   "codemirror_mode": {
    "name": "ipython",
    "version": 3
   },
   "file_extension": ".py",
   "mimetype": "text/x-python",
   "name": "python",
   "nbconvert_exporter": "python",
   "pygments_lexer": "ipython3",
   "version": "3.7.3"
  }
 },
 "nbformat": 4,
 "nbformat_minor": 2
}
