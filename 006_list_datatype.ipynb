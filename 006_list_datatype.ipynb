{
 "cells": [
  {
   "cell_type": "markdown",
   "metadata": {},
   "source": [
    "# list data type\n",
    "\n",
    "---> It is a sequencial Datatype\n",
    "\n",
    "---> It can store group of elements with in Square Brackets  [  ]\n"
   ]
  },
  {
   "cell_type": "code",
   "execution_count": 3,
   "metadata": {},
   "outputs": [
    {
     "name": "stdout",
     "output_type": "stream",
     "text": [
      "data in var  []\n",
      "<class 'list'>\n",
      "835757003464\n",
      "len of list 0\n"
     ]
    },
    {
     "ename": "ValueError",
     "evalue": "max() arg is an empty sequence",
     "output_type": "error",
     "traceback": [
      "\u001b[1;31m---------------------------------------------------------------------------\u001b[0m",
      "\u001b[1;31mValueError\u001b[0m                                Traceback (most recent call last)",
      "\u001b[1;32m<ipython-input-3-4b4726cc348a>\u001b[0m in \u001b[0;36m<module>\u001b[1;34m\u001b[0m\n\u001b[0;32m      5\u001b[0m \u001b[0mprint\u001b[0m\u001b[1;33m(\u001b[0m\u001b[0mid\u001b[0m\u001b[1;33m(\u001b[0m\u001b[0mvar\u001b[0m\u001b[1;33m)\u001b[0m\u001b[1;33m)\u001b[0m\u001b[1;33m\u001b[0m\u001b[1;33m\u001b[0m\u001b[0m\n\u001b[0;32m      6\u001b[0m \u001b[0mprint\u001b[0m\u001b[1;33m(\u001b[0m\u001b[1;34m\"len of list\"\u001b[0m\u001b[1;33m,\u001b[0m\u001b[0mlen\u001b[0m\u001b[1;33m(\u001b[0m\u001b[0mvar\u001b[0m\u001b[1;33m)\u001b[0m\u001b[1;33m)\u001b[0m\u001b[1;33m\u001b[0m\u001b[1;33m\u001b[0m\u001b[0m\n\u001b[1;32m----> 7\u001b[1;33m \u001b[0mprint\u001b[0m\u001b[1;33m(\u001b[0m\u001b[1;34m\"max elen   :\"\u001b[0m\u001b[1;33m,\u001b[0m\u001b[0mmax\u001b[0m\u001b[1;33m(\u001b[0m\u001b[0mvar\u001b[0m\u001b[1;33m)\u001b[0m\u001b[1;33m)\u001b[0m\u001b[1;33m\u001b[0m\u001b[1;33m\u001b[0m\u001b[0m\n\u001b[0m\u001b[0;32m      8\u001b[0m \u001b[0mprint\u001b[0m\u001b[1;33m(\u001b[0m\u001b[1;34m\"min  elem  : \"\u001b[0m\u001b[1;33m,\u001b[0m\u001b[0mmin\u001b[0m\u001b[1;33m(\u001b[0m\u001b[0mvar\u001b[0m\u001b[1;33m)\u001b[0m\u001b[1;33m)\u001b[0m\u001b[1;33m\u001b[0m\u001b[1;33m\u001b[0m\u001b[0m\n\u001b[0;32m      9\u001b[0m \u001b[0mprint\u001b[0m\u001b[1;33m(\u001b[0m\u001b[1;34m\"sum of ele : \"\u001b[0m\u001b[1;33m,\u001b[0m\u001b[0msum\u001b[0m\u001b[1;33m(\u001b[0m\u001b[0mvar\u001b[0m\u001b[1;33m)\u001b[0m\u001b[1;33m)\u001b[0m\u001b[1;33m\u001b[0m\u001b[1;33m\u001b[0m\u001b[0m\n",
      "\u001b[1;31mValueError\u001b[0m: max() arg is an empty sequence"
     ]
    }
   ],
   "source": [
    "# empty list\n",
    "var = [ ]\n",
    "print(\"data in var \",var)\n",
    "print(type(var))\n",
    "print(id(var))\n",
    "print(\"len of list\",len(var))\n",
    "print(\"max elen   :\",max(var))\n",
    "print(\"min  elem  : \",min(var))\n",
    "print(\"sum of ele : \",sum(var))"
   ]
  },
  {
   "cell_type": "code",
   "execution_count": 4,
   "metadata": {},
   "outputs": [
    {
     "name": "stdout",
     "output_type": "stream",
     "text": [
      "data in var  [12, 45, 78, -12]\n",
      "<class 'list'>\n",
      "835757006728\n",
      "len of list 4\n",
      "max elen   : 78\n",
      "min  elem  :  -12\n",
      "sum of ele :  123\n"
     ]
    }
   ],
   "source": [
    "# homo list\n",
    "var = [12,45,78,-12 ]\n",
    "print(\"data in var \",var)\n",
    "print(type(var))\n",
    "print(id(var))\n",
    "print(\"len of list\",len(var))\n",
    "print(\"max elen   :\",max(var))\n",
    "print(\"min  elem  : \",min(var))\n",
    "print(\"sum of ele : \",sum(var))"
   ]
  },
  {
   "cell_type": "code",
   "execution_count": 5,
   "metadata": {},
   "outputs": [
    {
     "name": "stdout",
     "output_type": "stream",
     "text": [
      "data in var  [12, 34.56, True, False]\n",
      "<class 'list'>\n",
      "835754429832\n",
      "len of list 4\n",
      "max elen   : 34.56\n",
      "min  elem  :  False\n",
      "sum of ele :  47.56\n"
     ]
    }
   ],
   "source": [
    "# empty list\n",
    "var = [ ]\n",
    "print(\"data in var \",var)\n",
    "print(type(var))\n",
    "print(id(var))\n",
    "print(\"len of list\",len(var))\n",
    "print(\"max elen   :\",max(var))\n",
    "print(\"min  elem  : \",min(var))\n",
    "print(\"sum of ele : \",sum(var))"
   ]
  },
  {
   "cell_type": "code",
   "execution_count": 6,
   "metadata": {},
   "outputs": [
    {
     "name": "stdout",
     "output_type": "stream",
     "text": [
      "data in var  [12, 56.78, True, None, (7+6j)]\n",
      "<class 'list'>\n",
      "835757126408\n",
      "len of list 5\n"
     ]
    },
    {
     "ename": "TypeError",
     "evalue": "'>' not supported between instances of 'NoneType' and 'float'",
     "output_type": "error",
     "traceback": [
      "\u001b[1;31m---------------------------------------------------------------------------\u001b[0m",
      "\u001b[1;31mTypeError\u001b[0m                                 Traceback (most recent call last)",
      "\u001b[1;32m<ipython-input-6-73f67c6f1850>\u001b[0m in \u001b[0;36m<module>\u001b[1;34m\u001b[0m\n\u001b[0;32m      5\u001b[0m \u001b[0mprint\u001b[0m\u001b[1;33m(\u001b[0m\u001b[0mid\u001b[0m\u001b[1;33m(\u001b[0m\u001b[0mvar\u001b[0m\u001b[1;33m)\u001b[0m\u001b[1;33m)\u001b[0m\u001b[1;33m\u001b[0m\u001b[1;33m\u001b[0m\u001b[0m\n\u001b[0;32m      6\u001b[0m \u001b[0mprint\u001b[0m\u001b[1;33m(\u001b[0m\u001b[1;34m\"len of list\"\u001b[0m\u001b[1;33m,\u001b[0m\u001b[0mlen\u001b[0m\u001b[1;33m(\u001b[0m\u001b[0mvar\u001b[0m\u001b[1;33m)\u001b[0m\u001b[1;33m)\u001b[0m\u001b[1;33m\u001b[0m\u001b[1;33m\u001b[0m\u001b[0m\n\u001b[1;32m----> 7\u001b[1;33m \u001b[0mprint\u001b[0m\u001b[1;33m(\u001b[0m\u001b[1;34m\"max elen   :\"\u001b[0m\u001b[1;33m,\u001b[0m\u001b[0mmax\u001b[0m\u001b[1;33m(\u001b[0m\u001b[0mvar\u001b[0m\u001b[1;33m)\u001b[0m\u001b[1;33m)\u001b[0m\u001b[1;33m\u001b[0m\u001b[1;33m\u001b[0m\u001b[0m\n\u001b[0m\u001b[0;32m      8\u001b[0m \u001b[0mprint\u001b[0m\u001b[1;33m(\u001b[0m\u001b[1;34m\"min  elem  : \"\u001b[0m\u001b[1;33m,\u001b[0m\u001b[0mmin\u001b[0m\u001b[1;33m(\u001b[0m\u001b[0mvar\u001b[0m\u001b[1;33m)\u001b[0m\u001b[1;33m)\u001b[0m\u001b[1;33m\u001b[0m\u001b[1;33m\u001b[0m\u001b[0m\n\u001b[0;32m      9\u001b[0m \u001b[0mprint\u001b[0m\u001b[1;33m(\u001b[0m\u001b[1;34m\"sum of ele : \"\u001b[0m\u001b[1;33m,\u001b[0m\u001b[0msum\u001b[0m\u001b[1;33m(\u001b[0m\u001b[0mvar\u001b[0m\u001b[1;33m)\u001b[0m\u001b[1;33m)\u001b[0m\u001b[1;33m\u001b[0m\u001b[1;33m\u001b[0m\u001b[0m\n",
      "\u001b[1;31mTypeError\u001b[0m: '>' not supported between instances of 'NoneType' and 'float'"
     ]
    }
   ],
   "source": [
    "# hetro list\n",
    "var = [12,56.78,True ,None, 7+6j ]\n",
    "print(\"data in var \",var)\n",
    "print(type(var))\n",
    "print(id(var))\n",
    "print(\"len of list\",len(var))\n",
    "print(\"max elen   :\",max(var))\n",
    "print(\"min  elem  : \",min(var))\n",
    "print(\"sum of ele : \",sum(var))"
   ]
  },
  {
   "cell_type": "code",
   "execution_count": 7,
   "metadata": {},
   "outputs": [
    {
     "name": "stdout",
     "output_type": "stream",
     "text": [
      "data in var  ['soc', [1, 2, 3], (1, 24), {12, 45}, {12: 'ffjfg'}]\n",
      "<class 'list'>\n",
      "835757151304\n",
      "len of list 5\n"
     ]
    },
    {
     "ename": "TypeError",
     "evalue": "'>' not supported between instances of 'list' and 'str'",
     "output_type": "error",
     "traceback": [
      "\u001b[1;31m---------------------------------------------------------------------------\u001b[0m",
      "\u001b[1;31mTypeError\u001b[0m                                 Traceback (most recent call last)",
      "\u001b[1;32m<ipython-input-7-15b1663d397e>\u001b[0m in \u001b[0;36m<module>\u001b[1;34m\u001b[0m\n\u001b[0;32m      5\u001b[0m \u001b[0mprint\u001b[0m\u001b[1;33m(\u001b[0m\u001b[0mid\u001b[0m\u001b[1;33m(\u001b[0m\u001b[0mvar\u001b[0m\u001b[1;33m)\u001b[0m\u001b[1;33m)\u001b[0m\u001b[1;33m\u001b[0m\u001b[1;33m\u001b[0m\u001b[0m\n\u001b[0;32m      6\u001b[0m \u001b[0mprint\u001b[0m\u001b[1;33m(\u001b[0m\u001b[1;34m\"len of list\"\u001b[0m\u001b[1;33m,\u001b[0m\u001b[0mlen\u001b[0m\u001b[1;33m(\u001b[0m\u001b[0mvar\u001b[0m\u001b[1;33m)\u001b[0m\u001b[1;33m)\u001b[0m\u001b[1;33m\u001b[0m\u001b[1;33m\u001b[0m\u001b[0m\n\u001b[1;32m----> 7\u001b[1;33m \u001b[0mprint\u001b[0m\u001b[1;33m(\u001b[0m\u001b[1;34m\"max elen   :\"\u001b[0m\u001b[1;33m,\u001b[0m\u001b[0mmax\u001b[0m\u001b[1;33m(\u001b[0m\u001b[0mvar\u001b[0m\u001b[1;33m)\u001b[0m\u001b[1;33m)\u001b[0m\u001b[1;33m\u001b[0m\u001b[1;33m\u001b[0m\u001b[0m\n\u001b[0m\u001b[0;32m      8\u001b[0m \u001b[0mprint\u001b[0m\u001b[1;33m(\u001b[0m\u001b[1;34m\"min  elem  : \"\u001b[0m\u001b[1;33m,\u001b[0m\u001b[0mmin\u001b[0m\u001b[1;33m(\u001b[0m\u001b[0mvar\u001b[0m\u001b[1;33m)\u001b[0m\u001b[1;33m)\u001b[0m\u001b[1;33m\u001b[0m\u001b[1;33m\u001b[0m\u001b[0m\n\u001b[0;32m      9\u001b[0m \u001b[0mprint\u001b[0m\u001b[1;33m(\u001b[0m\u001b[1;34m\"sum of ele : \"\u001b[0m\u001b[1;33m,\u001b[0m\u001b[0msum\u001b[0m\u001b[1;33m(\u001b[0m\u001b[0mvar\u001b[0m\u001b[1;33m)\u001b[0m\u001b[1;33m)\u001b[0m\u001b[1;33m\u001b[0m\u001b[1;33m\u001b[0m\u001b[0m\n",
      "\u001b[1;31mTypeError\u001b[0m: '>' not supported between instances of 'list' and 'str'"
     ]
    }
   ],
   "source": [
    "# nested list \n",
    "var = ['soc' ,[1,2,3],(1,24),{12,45},{12:\"ffjfg\"} ]\n",
    "print(\"data in var \",var)\n",
    "print(type(var))\n",
    "print(id(var))\n",
    "print(\"len of list\",len(var))\n",
    "print(\"max elen   :\",max(var))\n",
    "print(\"min  elem  : \",min(var))\n",
    "print(\"sum of ele : \",sum(var))"
   ]
  },
  {
   "cell_type": "code",
   "execution_count": 10,
   "metadata": {},
   "outputs": [
    {
     "name": "stdout",
     "output_type": "stream",
     "text": [
      "data in var  [12, 67, 12, 90, 23]\n",
      "positive indexing \n",
      "12\n",
      "67\n",
      "12\n",
      "90\n",
      "23\n",
      "negative  indexing \n",
      "23\n",
      "90\n",
      "12\n",
      "67\n",
      "12\n"
     ]
    }
   ],
   "source": [
    "#access the list elements from list\n",
    "# 1. indexing   ---> we can access only single elements\n",
    "\n",
    "#----> positive indexing \n",
    "\n",
    "var = [12 ,67,12,90,23 ]\n",
    "print(\"data in var \",var)\n",
    "print(\"positive indexing \")\n",
    "print(var[0]) # 12\n",
    "print(var[1]) # 67\n",
    "print(var[2]) # 12\n",
    "print(var[3]) # 90\n",
    "print(var[4]) # 23\n",
    "print(\"negative  indexing \")\n",
    "print(var[-1]) # 23\n",
    "print(var[-2]) # 90\n",
    "print(var[-3]) # 12\n",
    "print(var[-4]) # 67\n",
    "print(var[-5]) # 12\n"
   ]
  },
  {
   "cell_type": "code",
   "execution_count": 14,
   "metadata": {},
   "outputs": [
    {
     "name": "stdout",
     "output_type": "stream",
     "text": [
      "[30, 40, 50, 60]\n",
      "[10, 20, 30, 40, 50, 60]\n",
      "[30, 40, 50, 60, 70, 80, 90]\n"
     ]
    }
   ],
   "source": [
    "# slicing  ---> we can access multiple elements continusly\n",
    "# var[ start  :  stop ]\n",
    "var = [10,20,30,40,50,60,70,80,90]\n",
    "print(var[2 : 6])\n",
    "print(var[:6]) # start ---> 0\n",
    "print(var[2:]) #stop ----> len of list\n"
   ]
  },
  {
   "cell_type": "code",
   "execution_count": 21,
   "metadata": {},
   "outputs": [
    {
     "name": "stdout",
     "output_type": "stream",
     "text": [
      "[20, 50, 80]\n",
      "[10, 40, 70]\n",
      "[40, 70]\n",
      "[40, 50, 60, 70, 80]\n"
     ]
    }
   ],
   "source": [
    "# dicing ---> group of list elements step wise \n",
    "# var[ start : stop : step ]\n",
    "var = [10,20,30,40,50,60,70,80,90]\n",
    "print(var[1: 8:3])\n",
    "print(var[: 8:3])\n",
    "print(var[3::3])\n",
    "print(var[3:8:]) # step ---> 1"
   ]
  },
  {
   "cell_type": "code",
   "execution_count": 24,
   "metadata": {},
   "outputs": [
    {
     "name": "stdout",
     "output_type": "stream",
     "text": [
      "soc\n",
      "o\n",
      "[12, 45, 12, 90]\n",
      "[45, 12]\n"
     ]
    }
   ],
   "source": [
    "# nested indexing \n",
    "var = ['soc' , [12,45,12,90]]\n",
    "print(var[0])\n",
    "print(var[0][1])\n",
    "print(var[1])\n",
    "print(var[1][1:3])"
   ]
  },
  {
   "cell_type": "code",
   "execution_count": 25,
   "metadata": {},
   "outputs": [
    {
     "name": "stdout",
     "output_type": "stream",
     "text": [
      "[10, 20, 30]\n",
      "[10, 100, 30]\n"
     ]
    }
   ],
   "source": [
    "# modify the existing data \n",
    "# mutable daatatype\n",
    "var = [10,20,30]\n",
    "print(var)\n",
    "var[1] = 100\n",
    "print(var)"
   ]
  },
  {
   "cell_type": "code",
   "execution_count": 26,
   "metadata": {},
   "outputs": [
    {
     "name": "stdout",
     "output_type": "stream",
     "text": [
      "[10, 20, 30]\n",
      "[]\n"
     ]
    }
   ],
   "source": [
    "# clear\n",
    "var= [10,20,30]\n",
    "print(var)\n",
    "var.clear()\n",
    "print(var)"
   ]
  },
  {
   "cell_type": "code",
   "execution_count": 27,
   "metadata": {},
   "outputs": [
    {
     "name": "stdout",
     "output_type": "stream",
     "text": [
      "[10, 20, 30]\n",
      "[10, 20, 30]\n",
      "[10, 20, 30, 12]\n",
      "[10, 20, 30]\n"
     ]
    }
   ],
   "source": [
    "var= [10,20,30]\n",
    "b = var.copy()\n",
    "print(var)\n",
    "print(b)\n",
    "var.append(12)\n",
    "print(var)\n",
    "print(b)"
   ]
  },
  {
   "cell_type": "code",
   "execution_count": 28,
   "metadata": {},
   "outputs": [
    {
     "name": "stdout",
     "output_type": "stream",
     "text": [
      "[10, 20, 30]\n",
      "[10, 20, 30]\n",
      "[10, 20, 30, 12]\n",
      "[10, 20, 30, 12]\n"
     ]
    }
   ],
   "source": [
    "var= [10,20,30]\n",
    "b = var\n",
    "print(var)\n",
    "print(b)\n",
    "var.append(12)\n",
    "print(var)\n",
    "print(b)"
   ]
  },
  {
   "cell_type": "code",
   "execution_count": 29,
   "metadata": {},
   "outputs": [
    {
     "name": "stdout",
     "output_type": "stream",
     "text": [
      "[10, 20, 30]\n",
      "[90, 45]\n",
      "[10, 20, 30, 90, 45]\n",
      "[90, 45]\n"
     ]
    }
   ],
   "source": [
    "var= [10,20,30]\n",
    "b = [90,45]\n",
    "print(var)\n",
    "print(b)\n",
    "var.extend(b)\n",
    "print(var)\n",
    "print(b)"
   ]
  },
  {
   "cell_type": "code",
   "execution_count": 30,
   "metadata": {},
   "outputs": [
    {
     "name": "stdout",
     "output_type": "stream",
     "text": [
      "[10, 20, 30, 9, -2]\n",
      "[-2, 9, 30, 20, 10]\n"
     ]
    }
   ],
   "source": [
    "var= [10,20,30,9,-2]\n",
    "print(var)\n",
    "\n",
    "var.reverse()\n",
    "print(var)\n"
   ]
  },
  {
   "cell_type": "code",
   "execution_count": 31,
   "metadata": {},
   "outputs": [
    {
     "name": "stdout",
     "output_type": "stream",
     "text": [
      "[10, 20, 30, 9, -2]\n",
      "[-2, 9, 10, 20, 30]\n"
     ]
    }
   ],
   "source": [
    "var= [10,20,30,9,-2]\n",
    "print(var)\n",
    "var.sort()\n",
    "print(var)\n"
   ]
  },
  {
   "cell_type": "code",
   "execution_count": 32,
   "metadata": {},
   "outputs": [
    {
     "name": "stdout",
     "output_type": "stream",
     "text": [
      "[10, 20, 30, 9, -2]\n",
      "[10, 20, 9, -2]\n"
     ]
    }
   ],
   "source": [
    "# remove\n",
    "var= [10,20,30,9,-2]\n",
    "print(var)\n",
    "\n",
    "var.remove(30)\n",
    "print(var)\n"
   ]
  },
  {
   "cell_type": "code",
   "execution_count": 33,
   "metadata": {},
   "outputs": [
    {
     "name": "stdout",
     "output_type": "stream",
     "text": [
      "[10, 20, 30, 9, -2]\n",
      "30\n",
      "[10, 20, 9, -2]\n"
     ]
    }
   ],
   "source": [
    "# pop\n",
    "var= [10,20,30,9,-2]\n",
    "print(var)\n",
    "\n",
    "print(var.pop(2))\n",
    "print(var)\n"
   ]
  },
  {
   "cell_type": "code",
   "execution_count": 34,
   "metadata": {},
   "outputs": [
    {
     "name": "stdout",
     "output_type": "stream",
     "text": [
      "[10, 20, 30, 9, -2]\n",
      "-2\n",
      "[10, 20, 30, 9]\n"
     ]
    }
   ],
   "source": [
    "# pop ---> -1\n",
    "var= [10,20,30,9,-2]\n",
    "print(var)\n",
    "\n",
    "print(var.pop())\n",
    "print(var)\n"
   ]
  },
  {
   "cell_type": "code",
   "execution_count": 36,
   "metadata": {},
   "outputs": [
    {
     "name": "stdout",
     "output_type": "stream",
     "text": [
      "[10, 20, 30, 9, -2]\n",
      "[10, 20, 90, 30, 9, -2]\n"
     ]
    }
   ],
   "source": [
    "# remove\n",
    "var= [10,20,30,9,-2]\n",
    "print(var)\n",
    "\n",
    "var.insert(2,90)\n",
    "print(var)\n"
   ]
  },
  {
   "cell_type": "code",
   "execution_count": 37,
   "metadata": {},
   "outputs": [
    {
     "name": "stdout",
     "output_type": "stream",
     "text": [
      "[10, 20, 30, 9, -2]\n",
      "2\n"
     ]
    }
   ],
   "source": [
    "var= [10,20,30,9,-2]\n",
    "print(var)\n",
    "\n",
    "print(var.index(30))\n"
   ]
  },
  {
   "cell_type": "code",
   "execution_count": 39,
   "metadata": {},
   "outputs": [
    {
     "name": "stdout",
     "output_type": "stream",
     "text": [
      "[10, 20, 30, 9, -2, 10, 10, 10]\n",
      "4\n"
     ]
    }
   ],
   "source": [
    "var= [10,20,30,9,-2,10,10,10]\n",
    "print(var)\n",
    "\n",
    "print(var.count(10))\n"
   ]
  }
 ],
 "metadata": {
  "kernelspec": {
   "display_name": "Python 3",
   "language": "python",
   "name": "python3"
  },
  "language_info": {
   "codemirror_mode": {
    "name": "ipython",
    "version": 3
   },
   "file_extension": ".py",
   "mimetype": "text/x-python",
   "name": "python",
   "nbconvert_exporter": "python",
   "pygments_lexer": "ipython3",
   "version": "3.7.3"
  }
 },
 "nbformat": 4,
 "nbformat_minor": 2
}
