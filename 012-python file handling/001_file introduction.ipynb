{
 "cells": [
  {
   "cell_type": "markdown",
   "metadata": {},
   "source": [
    "# file  :-\n",
    "-----------\n",
    "\n",
    "---> File is a part the storage device\n",
    "\n",
    "---> Files it can store related information\n",
    "\n",
    "# type of files\n",
    "\n",
    "1. Text file  ----> A file it can store only alphanumaric character\n",
    "\n",
    "    examples : -   .c / .py / .txt / .doc / .ppt\n",
    "\n",
    "2. Binary file  --> A file it can store only 0 and 1\n",
    "\n",
    "    examples :-   .exe / .mp3 / .jpg\n",
    "    \n",
    "# File operation\n",
    "\n",
    "1. creating a file / opening th file\n",
    "\n",
    "2. reading the file content \n",
    "\n",
    "3.  writing into the file\n",
    "\n",
    "4. closing \n",
    "\n",
    "# file handling \n",
    "\n",
    "---> Do the file operation\n",
    "\n",
    "---> by operating system / python PL\n"
   ]
  },
  {
   "cell_type": "code",
   "execution_count": null,
   "metadata": {},
   "outputs": [],
   "source": [
    "# file operation methods\n",
    "\n",
    "'''\n",
    "open(\"filename with path\", \"mode of ope\") ---> to opening the file \n",
    "-----\n",
    "mode : \n",
    "\n",
    "write  :  w /  w+\n",
    "\n",
    "read   :  r /  r+\n",
    "\n",
    "append : a /   a+\n",
    "\n",
    "\n",
    "close() --> closing the file\n",
    "read()  --> read whole file at a time\n",
    "write() --> to write the daata\n",
    "seek() ---> to change the loc of cursor\n",
    "tell() ---> to know the cursor loc\n",
    "'''"
   ]
  },
  {
   "cell_type": "code",
   "execution_count": 4,
   "metadata": {},
   "outputs": [],
   "source": [
    "# w mode \n",
    "#file is not existed then creates\n",
    "# if you read method then error\n",
    "# file is existed with some data then delete the whole data and open freshly\n",
    "\n",
    "fo = open(\"sam.txt\",\"w\")\n",
    "#fo.read()\n",
    "fo.write(\"anjan\")\n",
    "fo.close()"
   ]
  },
  {
   "cell_type": "code",
   "execution_count": 7,
   "metadata": {},
   "outputs": [
    {
     "name": "stdout",
     "output_type": "stream",
     "text": [
      "\n",
      "anjan\n"
     ]
    }
   ],
   "source": [
    "# w+ mode \n",
    "#file is not existed then creates\n",
    "\n",
    "# file is existed with some data then delete the whole data and open freshly\n",
    "\n",
    "fo = open(\"sam1.txt\",\"w+\")\n",
    "print(fo.read())\n",
    "fo.write(\"anjan\")\n",
    "fo.seek(0,0)\n",
    "print(fo.read())\n",
    "fo.close()"
   ]
  },
  {
   "cell_type": "code",
   "execution_count": 20,
   "metadata": {},
   "outputs": [
    {
     "name": "stdout",
     "output_type": "stream",
     "text": [
      "45\n",
      "50\n"
     ]
    }
   ],
   "source": [
    "# a+ mode \n",
    "#file is not existed then creates\n",
    "# we can't read\n",
    "# file is existed with some data then the whole data is safe and open freshly\n",
    "\n",
    "fo = open(\"sam3.txt\",\"a\")\n",
    "print(fo.tell())\n",
    "#print(fo.read())\n",
    "fo.write(\"anjan\")\n",
    "print(fo.tell())\n",
    "#print(fo.read())\n",
    "fo.close()"
   ]
  },
  {
   "cell_type": "code",
   "execution_count": 21,
   "metadata": {},
   "outputs": [
    {
     "name": "stdout",
     "output_type": "stream",
     "text": [
      "50\n",
      "\n",
      "0\n",
      "anjananjananjananjananjananjananjananjananjananjananjan\n"
     ]
    }
   ],
   "source": [
    "# a+ mode \n",
    "#file is not existed then creates\n",
    "# we can read\n",
    "# file is existed with some data then the whole data is safe and open freshly\n",
    "\n",
    "fo = open(\"sam3.txt\",\"a+\")\n",
    "print(fo.tell())\n",
    "print(fo.read())\n",
    "fo.write(\"anjan\")\n",
    "fo.seek(0,0)\n",
    "print(fo.tell())\n",
    "print(fo.read())\n",
    "fo.close()"
   ]
  },
  {
   "cell_type": "code",
   "execution_count": 28,
   "metadata": {},
   "outputs": [
    {
     "name": "stdout",
     "output_type": "stream",
     "text": [
      "anjananjananjananjananjananjananjananjananjananjananjan\n"
     ]
    }
   ],
   "source": [
    "# r \n",
    "# file is not existed then error\n",
    "# write method error\n",
    "# file is existed then open the data is safe then open\n",
    "fo = open(\"sam3.txt\",\"r\")\n",
    "#fo.write(\"hello\")\n",
    "print(fo.read())\n",
    "fo.close()"
   ]
  },
  {
   "cell_type": "code",
   "execution_count": 31,
   "metadata": {},
   "outputs": [
    {
     "name": "stdout",
     "output_type": "stream",
     "text": [
      "0\n"
     ]
    },
    {
     "ename": "TypeError",
     "evalue": "tell() takes no arguments (2 given)",
     "output_type": "error",
     "traceback": [
      "\u001b[1;31m---------------------------------------------------------------------------\u001b[0m",
      "\u001b[1;31mTypeError\u001b[0m                                 Traceback (most recent call last)",
      "\u001b[1;32m<ipython-input-31-a9577a0f71a2>\u001b[0m in \u001b[0;36m<module>\u001b[1;34m\u001b[0m\n\u001b[0;32m      6\u001b[0m \u001b[0mprint\u001b[0m\u001b[1;33m(\u001b[0m\u001b[0mfo\u001b[0m\u001b[1;33m.\u001b[0m\u001b[0mtell\u001b[0m\u001b[1;33m(\u001b[0m\u001b[1;33m)\u001b[0m\u001b[1;33m)\u001b[0m\u001b[1;33m\u001b[0m\u001b[1;33m\u001b[0m\u001b[0m\n\u001b[0;32m      7\u001b[0m \u001b[0mfo\u001b[0m\u001b[1;33m.\u001b[0m\u001b[0mwrite\u001b[0m\u001b[1;33m(\u001b[0m\u001b[1;34m\"hello\"\u001b[0m\u001b[1;33m)\u001b[0m\u001b[1;33m\u001b[0m\u001b[1;33m\u001b[0m\u001b[0m\n\u001b[1;32m----> 8\u001b[1;33m \u001b[0mfo\u001b[0m\u001b[1;33m.\u001b[0m\u001b[0mtell\u001b[0m\u001b[1;33m(\u001b[0m\u001b[1;36m0\u001b[0m\u001b[1;33m,\u001b[0m\u001b[1;36m0\u001b[0m\u001b[1;33m)\u001b[0m\u001b[1;33m\u001b[0m\u001b[1;33m\u001b[0m\u001b[0m\n\u001b[0m\u001b[0;32m      9\u001b[0m \u001b[0mprint\u001b[0m\u001b[1;33m(\u001b[0m\u001b[0mfo\u001b[0m\u001b[1;33m.\u001b[0m\u001b[0mread\u001b[0m\u001b[1;33m(\u001b[0m\u001b[1;33m)\u001b[0m\u001b[1;33m)\u001b[0m\u001b[1;33m\u001b[0m\u001b[1;33m\u001b[0m\u001b[0m\n\u001b[0;32m     10\u001b[0m \u001b[0mfo\u001b[0m\u001b[1;33m.\u001b[0m\u001b[0mclose\u001b[0m\u001b[1;33m(\u001b[0m\u001b[1;33m)\u001b[0m\u001b[1;33m\u001b[0m\u001b[1;33m\u001b[0m\u001b[0m\n",
      "\u001b[1;31mTypeError\u001b[0m: tell() takes no arguments (2 given)"
     ]
    }
   ],
   "source": [
    "# r+\n",
    "# file is not existed then error\n",
    "\n",
    "# file is existed then open the data is safe then open\n",
    "fo = open(\"sam3.txt\",\"r+\")\n",
    "print(fo.tell())\n",
    "fo.write(\"hello\")\n",
    "fo.tell(0,0)\n",
    "print(fo.read())\n",
    "fo.close()"
   ]
  }
 ],
 "metadata": {
  "kernelspec": {
   "display_name": "Python 3",
   "language": "python",
   "name": "python3"
  },
  "language_info": {
   "codemirror_mode": {
    "name": "ipython",
    "version": 3
   },
   "file_extension": ".py",
   "mimetype": "text/x-python",
   "name": "python",
   "nbconvert_exporter": "python",
   "pygments_lexer": "ipython3",
   "version": "3.7.3"
  }
 },
 "nbformat": 4,
 "nbformat_minor": 2
}
