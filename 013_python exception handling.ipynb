{
 "cells": [
  {
   "cell_type": "code",
   "execution_count": 2,
   "metadata": {},
   "outputs": [
    {
     "name": "stdout",
     "output_type": "stream",
     "text": [
      "hai\n",
      "hai\n",
      "hai\n",
      "hai\n",
      "hai\n",
      "hai\n",
      "hai\n",
      "hai\n",
      "hai\n",
      "hai\n"
     ]
    }
   ],
   "source": [
    "i = 1\n",
    "while(i <=10):\n",
    "    print(\"hai\")\n",
    "    i = i +1"
   ]
  },
  {
   "cell_type": "code",
   "execution_count": 3,
   "metadata": {},
   "outputs": [
    {
     "ename": "SyntaxError",
     "evalue": "invalid syntax (<ipython-input-3-918e6232194e>, line 2)",
     "output_type": "error",
     "traceback": [
      "\u001b[1;36m  File \u001b[1;32m\"<ipython-input-3-918e6232194e>\"\u001b[1;36m, line \u001b[1;32m2\u001b[0m\n\u001b[1;33m    while(i <=10)\u001b[0m\n\u001b[1;37m                 ^\u001b[0m\n\u001b[1;31mSyntaxError\u001b[0m\u001b[1;31m:\u001b[0m invalid syntax\n"
     ]
    }
   ],
   "source": [
    "i = 1\n",
    "while(i <=10)\n",
    "    print(\"hai\")\n",
    "    i = i +1"
   ]
  },
  {
   "cell_type": "code",
   "execution_count": 4,
   "metadata": {},
   "outputs": [
    {
     "ename": "SyntaxError",
     "evalue": "invalid syntax (<ipython-input-4-8d9c5835c682>, line 4)",
     "output_type": "error",
     "traceback": [
      "\u001b[1;36m  File \u001b[1;32m\"<ipython-input-4-8d9c5835c682>\"\u001b[1;36m, line \u001b[1;32m4\u001b[0m\n\u001b[1;33m    i = i +\u001b[0m\n\u001b[1;37m           ^\u001b[0m\n\u001b[1;31mSyntaxError\u001b[0m\u001b[1;31m:\u001b[0m invalid syntax\n"
     ]
    }
   ],
   "source": [
    "i = 1\n",
    "while(i <=10):\n",
    "    print(\"hai\")\n",
    "    i = i +"
   ]
  },
  {
   "cell_type": "code",
   "execution_count": 5,
   "metadata": {},
   "outputs": [
    {
     "ename": "SyntaxError",
     "evalue": "invalid syntax (<ipython-input-5-45521b23ce6d>, line 4)",
     "output_type": "error",
     "traceback": [
      "\u001b[1;36m  File \u001b[1;32m\"<ipython-input-5-45521b23ce6d>\"\u001b[1;36m, line \u001b[1;32m4\u001b[0m\n\u001b[1;33m    i = i +1\u001b[0m\n\u001b[1;37m    ^\u001b[0m\n\u001b[1;31mSyntaxError\u001b[0m\u001b[1;31m:\u001b[0m invalid syntax\n"
     ]
    }
   ],
   "source": [
    "i = 1\n",
    "while(i <=10):\n",
    "    print(\"hai\"\n",
    "    i = i +1"
   ]
  },
  {
   "cell_type": "code",
   "execution_count": 6,
   "metadata": {},
   "outputs": [
    {
     "name": "stdout",
     "output_type": "stream",
     "text": [
      "hai\n"
     ]
    },
    {
     "ename": "NameError",
     "evalue": "name 'x' is not defined",
     "output_type": "error",
     "traceback": [
      "\u001b[1;31m---------------------------------------------------------------------------\u001b[0m",
      "\u001b[1;31mNameError\u001b[0m                                 Traceback (most recent call last)",
      "\u001b[1;32m<ipython-input-6-385f4b053b27>\u001b[0m in \u001b[0;36m<module>\u001b[1;34m\u001b[0m\n\u001b[0;32m      2\u001b[0m \u001b[1;32mwhile\u001b[0m\u001b[1;33m(\u001b[0m\u001b[0mi\u001b[0m \u001b[1;33m<=\u001b[0m\u001b[1;36m10\u001b[0m\u001b[1;33m)\u001b[0m\u001b[1;33m:\u001b[0m\u001b[1;33m\u001b[0m\u001b[1;33m\u001b[0m\u001b[0m\n\u001b[0;32m      3\u001b[0m     \u001b[0mprint\u001b[0m\u001b[1;33m(\u001b[0m\u001b[1;34m\"hai\"\u001b[0m\u001b[1;33m)\u001b[0m\u001b[1;33m\u001b[0m\u001b[1;33m\u001b[0m\u001b[0m\n\u001b[1;32m----> 4\u001b[1;33m     \u001b[0mi\u001b[0m \u001b[1;33m=\u001b[0m \u001b[0mx\u001b[0m \u001b[1;33m+\u001b[0m\u001b[1;36m1\u001b[0m\u001b[1;33m\u001b[0m\u001b[1;33m\u001b[0m\u001b[0m\n\u001b[0m",
      "\u001b[1;31mNameError\u001b[0m: name 'x' is not defined"
     ]
    }
   ],
   "source": [
    "i = 1\n",
    "while(i <=10):\n",
    "    print(\"hai\")\n",
    "    i = x +1"
   ]
  },
  {
   "cell_type": "code",
   "execution_count": 7,
   "metadata": {},
   "outputs": [
    {
     "name": "stdout",
     "output_type": "stream",
     "text": [
      "hai\n"
     ]
    },
    {
     "ename": "ZeroDivisionError",
     "evalue": "division by zero",
     "output_type": "error",
     "traceback": [
      "\u001b[1;31m---------------------------------------------------------------------------\u001b[0m",
      "\u001b[1;31mZeroDivisionError\u001b[0m                         Traceback (most recent call last)",
      "\u001b[1;32m<ipython-input-7-b76a29d61378>\u001b[0m in \u001b[0;36m<module>\u001b[1;34m\u001b[0m\n\u001b[0;32m      1\u001b[0m \u001b[1;32mwhile\u001b[0m\u001b[1;33m(\u001b[0m\u001b[0mi\u001b[0m\u001b[1;33m<\u001b[0m\u001b[1;36m10\u001b[0m\u001b[1;33m)\u001b[0m\u001b[1;33m:\u001b[0m\u001b[1;33m\u001b[0m\u001b[1;33m\u001b[0m\u001b[0m\n\u001b[0;32m      2\u001b[0m     \u001b[0mprint\u001b[0m\u001b[1;33m(\u001b[0m\u001b[1;34m'hai'\u001b[0m\u001b[1;33m)\u001b[0m\u001b[1;33m\u001b[0m\u001b[1;33m\u001b[0m\u001b[0m\n\u001b[1;32m----> 3\u001b[1;33m     \u001b[0mprint\u001b[0m\u001b[1;33m(\u001b[0m\u001b[0mi\u001b[0m\u001b[1;33m/\u001b[0m\u001b[1;36m0\u001b[0m\u001b[1;33m)\u001b[0m\u001b[1;33m\u001b[0m\u001b[1;33m\u001b[0m\u001b[0m\n\u001b[0m",
      "\u001b[1;31mZeroDivisionError\u001b[0m: division by zero"
     ]
    }
   ],
   "source": [
    "while(i<10):\n",
    "    print('hai')\n",
    "    print(i/0)"
   ]
  },
  {
   "cell_type": "code",
   "execution_count": 8,
   "metadata": {},
   "outputs": [
    {
     "name": "stdout",
     "output_type": "stream",
     "text": [
      "hai\n"
     ]
    },
    {
     "ename": "ModuleNotFoundError",
     "evalue": "No module named 'lkddfgkljfklgjkgjkg'",
     "output_type": "error",
     "traceback": [
      "\u001b[1;31m---------------------------------------------------------------------------\u001b[0m",
      "\u001b[1;31mModuleNotFoundError\u001b[0m                       Traceback (most recent call last)",
      "\u001b[1;32m<ipython-input-8-c32372b92643>\u001b[0m in \u001b[0;36m<module>\u001b[1;34m\u001b[0m\n\u001b[0;32m      2\u001b[0m \u001b[1;32mwhile\u001b[0m\u001b[1;33m(\u001b[0m\u001b[0mi\u001b[0m \u001b[1;33m<=\u001b[0m\u001b[1;36m10\u001b[0m\u001b[1;33m)\u001b[0m\u001b[1;33m:\u001b[0m\u001b[1;33m\u001b[0m\u001b[1;33m\u001b[0m\u001b[0m\n\u001b[0;32m      3\u001b[0m     \u001b[0mprint\u001b[0m\u001b[1;33m(\u001b[0m\u001b[1;34m\"hai\"\u001b[0m\u001b[1;33m)\u001b[0m\u001b[1;33m\u001b[0m\u001b[1;33m\u001b[0m\u001b[0m\n\u001b[1;32m----> 4\u001b[1;33m     \u001b[1;32mimport\u001b[0m \u001b[0mlkddfgkljfklgjkgjkg\u001b[0m\u001b[1;33m\u001b[0m\u001b[1;33m\u001b[0m\u001b[0m\n\u001b[0m\u001b[0;32m      5\u001b[0m     \u001b[0mi\u001b[0m \u001b[1;33m=\u001b[0m \u001b[0mi\u001b[0m \u001b[1;33m+\u001b[0m\u001b[1;36m1\u001b[0m\u001b[1;33m\u001b[0m\u001b[1;33m\u001b[0m\u001b[0m\n",
      "\u001b[1;31mModuleNotFoundError\u001b[0m: No module named 'lkddfgkljfklgjkgjkg'"
     ]
    }
   ],
   "source": [
    "i = 1\n",
    "while(i <=10):\n",
    "    print(\"hai\")\n",
    "    import lkddfgkljfklgjkgjkg\n",
    "    i = i +1"
   ]
  },
  {
   "cell_type": "code",
   "execution_count": 9,
   "metadata": {},
   "outputs": [
    {
     "name": "stdout",
     "output_type": "stream",
     "text": [
      "hai\n"
     ]
    },
    {
     "ename": "FileNotFoundError",
     "evalue": "[Errno 2] No such file or directory: 'knkfngkfngkd'",
     "output_type": "error",
     "traceback": [
      "\u001b[1;31m---------------------------------------------------------------------------\u001b[0m",
      "\u001b[1;31mFileNotFoundError\u001b[0m                         Traceback (most recent call last)",
      "\u001b[1;32m<ipython-input-9-f199f557e557>\u001b[0m in \u001b[0;36m<module>\u001b[1;34m\u001b[0m\n\u001b[0;32m      2\u001b[0m \u001b[1;32mwhile\u001b[0m\u001b[1;33m(\u001b[0m\u001b[0mi\u001b[0m \u001b[1;33m<=\u001b[0m\u001b[1;36m10\u001b[0m\u001b[1;33m)\u001b[0m\u001b[1;33m:\u001b[0m\u001b[1;33m\u001b[0m\u001b[1;33m\u001b[0m\u001b[0m\n\u001b[0;32m      3\u001b[0m     \u001b[0mprint\u001b[0m\u001b[1;33m(\u001b[0m\u001b[1;34m\"hai\"\u001b[0m\u001b[1;33m)\u001b[0m\u001b[1;33m\u001b[0m\u001b[1;33m\u001b[0m\u001b[0m\n\u001b[1;32m----> 4\u001b[1;33m     \u001b[0mopen\u001b[0m\u001b[1;33m(\u001b[0m\u001b[1;34m\"knkfngkfngkd\"\u001b[0m\u001b[1;33m,\u001b[0m\u001b[1;34m\"r\"\u001b[0m\u001b[1;33m)\u001b[0m\u001b[1;33m\u001b[0m\u001b[1;33m\u001b[0m\u001b[0m\n\u001b[0m\u001b[0;32m      5\u001b[0m     \u001b[0mi\u001b[0m \u001b[1;33m=\u001b[0m \u001b[0mi\u001b[0m \u001b[1;33m+\u001b[0m\u001b[1;36m1\u001b[0m\u001b[1;33m\u001b[0m\u001b[1;33m\u001b[0m\u001b[0m\n",
      "\u001b[1;31mFileNotFoundError\u001b[0m: [Errno 2] No such file or directory: 'knkfngkfngkd'"
     ]
    }
   ],
   "source": [
    "i = 1\n",
    "while(i <=10):\n",
    "    print(\"hai\")\n",
    "    open(\"knkfngkfngkd\",\"r\")\n",
    "    i = i +1"
   ]
  },
  {
   "cell_type": "code",
   "execution_count": 10,
   "metadata": {},
   "outputs": [
    {
     "name": "stdout",
     "output_type": "stream",
     "text": [
      "hai\n"
     ]
    },
    {
     "ename": "ValueError",
     "evalue": "invalid literal for int() with base 10: '12.46'",
     "output_type": "error",
     "traceback": [
      "\u001b[1;31m---------------------------------------------------------------------------\u001b[0m",
      "\u001b[1;31mValueError\u001b[0m                                Traceback (most recent call last)",
      "\u001b[1;32m<ipython-input-10-6299ef202009>\u001b[0m in \u001b[0;36m<module>\u001b[1;34m\u001b[0m\n\u001b[0;32m      2\u001b[0m \u001b[1;32mwhile\u001b[0m\u001b[1;33m(\u001b[0m\u001b[0mi\u001b[0m \u001b[1;33m<=\u001b[0m\u001b[1;36m10\u001b[0m\u001b[1;33m)\u001b[0m\u001b[1;33m:\u001b[0m\u001b[1;33m\u001b[0m\u001b[1;33m\u001b[0m\u001b[0m\n\u001b[0;32m      3\u001b[0m     \u001b[0mprint\u001b[0m\u001b[1;33m(\u001b[0m\u001b[1;34m\"hai\"\u001b[0m\u001b[1;33m)\u001b[0m\u001b[1;33m\u001b[0m\u001b[1;33m\u001b[0m\u001b[0m\n\u001b[1;32m----> 4\u001b[1;33m     \u001b[0ma\u001b[0m \u001b[1;33m=\u001b[0m \u001b[0mint\u001b[0m\u001b[1;33m(\u001b[0m\u001b[1;34m'12.46'\u001b[0m\u001b[1;33m)\u001b[0m\u001b[1;33m\u001b[0m\u001b[1;33m\u001b[0m\u001b[0m\n\u001b[0m\u001b[0;32m      5\u001b[0m     \u001b[0mi\u001b[0m \u001b[1;33m=\u001b[0m \u001b[0mi\u001b[0m \u001b[1;33m+\u001b[0m\u001b[1;36m1\u001b[0m\u001b[1;33m\u001b[0m\u001b[1;33m\u001b[0m\u001b[0m\n",
      "\u001b[1;31mValueError\u001b[0m: invalid literal for int() with base 10: '12.46'"
     ]
    }
   ],
   "source": [
    "i = 1\n",
    "while(i <=10):\n",
    "    print(\"hai\")\n",
    "    a = int('12.46')\n",
    "    i = i +1"
   ]
  },
  {
   "cell_type": "code",
   "execution_count": 11,
   "metadata": {},
   "outputs": [
    {
     "name": "stdout",
     "output_type": "stream",
     "text": [
      "hai\n"
     ]
    },
    {
     "ename": "TypeError",
     "evalue": "can't convert complex to int",
     "output_type": "error",
     "traceback": [
      "\u001b[1;31m---------------------------------------------------------------------------\u001b[0m",
      "\u001b[1;31mTypeError\u001b[0m                                 Traceback (most recent call last)",
      "\u001b[1;32m<ipython-input-11-e7785478ec0d>\u001b[0m in \u001b[0;36m<module>\u001b[1;34m\u001b[0m\n\u001b[0;32m      2\u001b[0m \u001b[1;32mwhile\u001b[0m\u001b[1;33m(\u001b[0m\u001b[0mi\u001b[0m \u001b[1;33m<=\u001b[0m\u001b[1;36m10\u001b[0m\u001b[1;33m)\u001b[0m\u001b[1;33m:\u001b[0m\u001b[1;33m\u001b[0m\u001b[1;33m\u001b[0m\u001b[0m\n\u001b[0;32m      3\u001b[0m     \u001b[0mprint\u001b[0m\u001b[1;33m(\u001b[0m\u001b[1;34m\"hai\"\u001b[0m\u001b[1;33m)\u001b[0m\u001b[1;33m\u001b[0m\u001b[1;33m\u001b[0m\u001b[0m\n\u001b[1;32m----> 4\u001b[1;33m     \u001b[0mint\u001b[0m\u001b[1;33m(\u001b[0m\u001b[1;36m12\u001b[0m\u001b[1;33m+\u001b[0m\u001b[1;36m45j\u001b[0m\u001b[1;33m)\u001b[0m\u001b[1;33m\u001b[0m\u001b[1;33m\u001b[0m\u001b[0m\n\u001b[0m\u001b[0;32m      5\u001b[0m     \u001b[0mi\u001b[0m \u001b[1;33m=\u001b[0m \u001b[0mi\u001b[0m \u001b[1;33m+\u001b[0m\u001b[1;36m1\u001b[0m\u001b[1;33m\u001b[0m\u001b[1;33m\u001b[0m\u001b[0m\n",
      "\u001b[1;31mTypeError\u001b[0m: can't convert complex to int"
     ]
    }
   ],
   "source": [
    "i = 1\n",
    "while(i <=10):\n",
    "    print(\"hai\")\n",
    "    int(12+45j)\n",
    "    i = i +1"
   ]
  },
  {
   "cell_type": "code",
   "execution_count": null,
   "metadata": {},
   "outputs": [],
   "source": [
    "try :\n",
    "    whole logic of the program\n",
    "except :\n",
    "    handling the exception"
   ]
  },
  {
   "cell_type": "code",
   "execution_count": 12,
   "metadata": {},
   "outputs": [
    {
     "name": "stdout",
     "output_type": "stream",
     "text": [
      "hai\n",
      "hai\n",
      "hai\n",
      "hai\n",
      "hai\n",
      "hai\n",
      "hai\n",
      "hai\n",
      "hai\n",
      "hai\n"
     ]
    }
   ],
   "source": [
    "try :\n",
    "    i = 1\n",
    "    while(i <=10):\n",
    "        print(\"hai\")\n",
    "        i = i +1\n",
    "except:\n",
    "    print(\"i am handling th exception\")"
   ]
  },
  {
   "cell_type": "code",
   "execution_count": 13,
   "metadata": {},
   "outputs": [
    {
     "ename": "SyntaxError",
     "evalue": "invalid syntax (<ipython-input-13-bc1e5641b553>, line 5)",
     "output_type": "error",
     "traceback": [
      "\u001b[1;36m  File \u001b[1;32m\"<ipython-input-13-bc1e5641b553>\"\u001b[1;36m, line \u001b[1;32m5\u001b[0m\n\u001b[1;33m    i = i +\u001b[0m\n\u001b[1;37m           ^\u001b[0m\n\u001b[1;31mSyntaxError\u001b[0m\u001b[1;31m:\u001b[0m invalid syntax\n"
     ]
    }
   ],
   "source": [
    "try :\n",
    "    i = 1\n",
    "    while(i <=10):\n",
    "        print(\"hai\")\n",
    "        i = i +\n",
    "except:\n",
    "    print(\"i am handling th exception\")"
   ]
  },
  {
   "cell_type": "code",
   "execution_count": 14,
   "metadata": {},
   "outputs": [
    {
     "name": "stdout",
     "output_type": "stream",
     "text": [
      "hai\n",
      "i am handling th exception\n"
     ]
    }
   ],
   "source": [
    "try :\n",
    "    i = 1\n",
    "    while(i <=10):\n",
    "        print(\"hai\")\n",
    "        i/0  #  ZeroDevisionError\n",
    "        i = i +1\n",
    "except:\n",
    "    print(\"i am handling th exception\")"
   ]
  },
  {
   "cell_type": "code",
   "execution_count": 15,
   "metadata": {},
   "outputs": [
    {
     "name": "stdout",
     "output_type": "stream",
     "text": [
      "hai\n",
      "i am handling th exception\n"
     ]
    }
   ],
   "source": [
    "try :\n",
    "    i = 1\n",
    "    while(i <=10):\n",
    "        print(\"hai\")\n",
    "        open(\"jkjffjghdjkfgdfgk\",\"r\")\n",
    "        i = i +1\n",
    "except:\n",
    "    print(\"i am handling th exception\")"
   ]
  },
  {
   "cell_type": "code",
   "execution_count": 16,
   "metadata": {},
   "outputs": [
    {
     "name": "stdout",
     "output_type": "stream",
     "text": [
      "hai\n",
      "i am handling th exception\n"
     ]
    }
   ],
   "source": [
    "try :\n",
    "    i = 1\n",
    "    while(i <=10):\n",
    "        print(\"hai\")\n",
    "        import fgfjkgdfjkghdfjkghfdgkjd\n",
    "        i = i +1\n",
    "except:\n",
    "    print(\"i am handling th exception\")"
   ]
  },
  {
   "cell_type": "code",
   "execution_count": 17,
   "metadata": {},
   "outputs": [
    {
     "name": "stdout",
     "output_type": "stream",
     "text": [
      "hai\n",
      "i am handling th exception\n"
     ]
    }
   ],
   "source": [
    "try :\n",
    "    i = 1\n",
    "    while(i <=10):\n",
    "        print(\"hai\")\n",
    "        int(\"12.454\")\n",
    "        i = i +1\n",
    "except:\n",
    "    print(\"i am handling th exception\")"
   ]
  },
  {
   "cell_type": "code",
   "execution_count": 18,
   "metadata": {},
   "outputs": [
    {
     "name": "stdout",
     "output_type": "stream",
     "text": [
      "hai\n",
      "hai\n",
      "hai\n",
      "hai\n",
      "hai\n",
      "hai\n",
      "hai\n",
      "hai\n",
      "hai\n",
      "hai\n",
      "successfully program is executed \n"
     ]
    }
   ],
   "source": [
    "try :\n",
    "    i = 1\n",
    "    while(i <=10):\n",
    "        print(\"hai\")\n",
    "        i = i +1\n",
    "except:\n",
    "    print(\"i am handling th exception\")\n",
    "else:\n",
    "    print(\"successfully program is executed \")"
   ]
  },
  {
   "cell_type": "code",
   "execution_count": 20,
   "metadata": {},
   "outputs": [
    {
     "name": "stdout",
     "output_type": "stream",
     "text": [
      "hai\n",
      "i am handling th exception\n"
     ]
    }
   ],
   "source": [
    "try :\n",
    "    i = 1\n",
    "    while(i <=10):\n",
    "        print(\"hai\")\n",
    "        i = i +1\n",
    "        import dfkknndgklhjlgkhgln\n",
    "        \n",
    "except:\n",
    "    print(\"i am handling th exception\")\n",
    "else:\n",
    "    print(\"successfully program is executed \")"
   ]
  },
  {
   "cell_type": "code",
   "execution_count": 21,
   "metadata": {},
   "outputs": [
    {
     "name": "stdout",
     "output_type": "stream",
     "text": [
      "hai\n",
      "hai\n",
      "hai\n",
      "hai\n",
      "hai\n",
      "hai\n",
      "hai\n",
      "hai\n",
      "hai\n",
      "hai\n",
      "successfully program is executed \n",
      "both cases finally can executes \n"
     ]
    }
   ],
   "source": [
    "try :\n",
    "    i = 1\n",
    "    while(i <=10):\n",
    "        print(\"hai\")\n",
    "        i = i +1\n",
    "except:\n",
    "    print(\"i am handling th exception\")\n",
    "else:\n",
    "    print(\"successfully program is executed \")\n",
    "finally:\n",
    "    print(\"both cases finally can executes \")"
   ]
  },
  {
   "cell_type": "code",
   "execution_count": 22,
   "metadata": {},
   "outputs": [
    {
     "name": "stdout",
     "output_type": "stream",
     "text": [
      "hai\n",
      "i am handling th exception\n",
      "both cases finally can executes \n"
     ]
    }
   ],
   "source": [
    "try :\n",
    "    i = 1\n",
    "    while(i <=10):\n",
    "        print(\"hai\")\n",
    "        import jhghfhgfhgfhgfhgfhgf\n",
    "        i = i +1\n",
    "except:\n",
    "    print(\"i am handling th exception\")\n",
    "else:\n",
    "    print(\"successfully program is executed \")\n",
    "finally:\n",
    "    print(\"both cases finally can executes \")"
   ]
  },
  {
   "cell_type": "code",
   "execution_count": 23,
   "metadata": {},
   "outputs": [
    {
     "name": "stdout",
     "output_type": "stream",
     "text": [
      "hai\n",
      "hai\n",
      "hai\n",
      "hai\n",
      "hai\n",
      "hai\n",
      "hai\n",
      "hai\n",
      "hai\n",
      "hai\n",
      "successfully program is executed \n",
      "both cases finally can executes \n"
     ]
    }
   ],
   "source": [
    "try :\n",
    "    i = 1\n",
    "    while(i <=10):\n",
    "        print(\"hai\")\n",
    "        #raise\n",
    "        i = i +1\n",
    "except:\n",
    "    print(\"i am handling th exception\")\n",
    "else:\n",
    "    print(\"successfully program is executed \")\n",
    "finally:\n",
    "    print(\"both cases finally can executes \")"
   ]
  },
  {
   "cell_type": "code",
   "execution_count": 24,
   "metadata": {},
   "outputs": [
    {
     "name": "stdout",
     "output_type": "stream",
     "text": [
      "hai\n",
      "i am handling th exception\n",
      "both cases finally can executes \n"
     ]
    }
   ],
   "source": [
    "try :\n",
    "    i = 1\n",
    "    while(i <=10):\n",
    "        print(\"hai\")\n",
    "        raise\n",
    "        i = i +1\n",
    "except:\n",
    "    print(\"i am handling th exception\")\n",
    "else:\n",
    "    print(\"successfully program is executed \")\n",
    "finally:\n",
    "    print(\"both cases finally can executes \")"
   ]
  },
  {
   "cell_type": "code",
   "execution_count": 25,
   "metadata": {},
   "outputs": [
    {
     "name": "stdout",
     "output_type": "stream",
     "text": [
      "hai\n",
      "Zero Division error\n",
      "both cases finally can executes \n"
     ]
    }
   ],
   "source": [
    "try :\n",
    "    i = 1\n",
    "    while(i <=10):\n",
    "        print(\"hai\")\n",
    "        i/0\n",
    "        i = i +1\n",
    "except ZeroDivisionError:\n",
    "    print(\"Zero Division error\")\n",
    "except:\n",
    "    print(\"i am handling th exception\")\n",
    "else:\n",
    "    print(\"successfully program is executed \")\n",
    "finally:\n",
    "    print(\"both cases finally can executes \")"
   ]
  },
  {
   "cell_type": "code",
   "execution_count": 28,
   "metadata": {},
   "outputs": [
    {
     "name": "stdout",
     "output_type": "stream",
     "text": [
      "hai\n",
      "file not founnd\n",
      "both cases finally can executes \n"
     ]
    }
   ],
   "source": [
    "try :\n",
    "    i = 1\n",
    "    while(i <=10):\n",
    "        print(\"hai\")\n",
    "        open(\"fkjkdjnkjg\",\"r\")\n",
    "        i = i +1\n",
    "except FileNotFoundError:\n",
    "    print(\"file not founnd\")\n",
    "except  ValueError:\n",
    "    print(\"Value Error\")\n",
    "except NameError:\n",
    "    print(\"Name not defined\")\n",
    "except TypeError:\n",
    "    print(\"Type Error\")\n",
    "except ModuleNotFoundError:\n",
    "    print(\"module not found\")\n",
    "except ZeroDivisionError:\n",
    "    print(\"Zero Division error\")\n",
    "except:\n",
    "    print(\"i am handling th exception\")\n",
    "else:\n",
    "    print(\"successfully program is executed \")\n",
    "finally:\n",
    "    print(\"both cases finally can executes \")"
   ]
  }
 ],
 "metadata": {
  "kernelspec": {
   "display_name": "Python 3",
   "language": "python",
   "name": "python3"
  },
  "language_info": {
   "codemirror_mode": {
    "name": "ipython",
    "version": 3
   },
   "file_extension": ".py",
   "mimetype": "text/x-python",
   "name": "python",
   "nbconvert_exporter": "python",
   "pygments_lexer": "ipython3",
   "version": "3.7.3"
  }
 },
 "nbformat": 4,
 "nbformat_minor": 2
}
