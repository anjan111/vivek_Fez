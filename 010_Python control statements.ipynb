{
 "cells": [
  {
   "cell_type": "code",
   "execution_count": 2,
   "metadata": {},
   "outputs": [
    {
     "name": "stdout",
     "output_type": "stream",
     "text": [
      "enter age of you : 18\n",
      "enter full name : anjan\n",
      "enter DOB :26-01-1994\n",
      "enter father name : edukondal\n",
      "Thanks for visiting the voter id center\n"
     ]
    }
   ],
   "source": [
    "# conditional stateemnts\n",
    "# simple if\n",
    "'''\n",
    "WAP apply for voter ID application\n",
    "'''\n",
    "age = int(input(\"enter age of you : \"))\n",
    "if(age >= 18):\n",
    "    name = input(\"enter full name : \")\n",
    "    DOB = input(\"enter DOB :\")\n",
    "    f_n = input(\"enter father name : \")\n",
    "print(\"Thanks for visiting the voter id center\")"
   ]
  },
  {
   "cell_type": "code",
   "execution_count": 5,
   "metadata": {},
   "outputs": [
    {
     "name": "stdout",
     "output_type": "stream",
     "text": [
      "enter r : 78.894555\n",
      "area =  19562.245398608076\n",
      "peri =  495.9086314285714\n",
      "its over\n"
     ]
    }
   ],
   "source": [
    "# wap find the area of and perimter of circle when radius is float data\n",
    "r= float(input(\"enter r : \"))\n",
    "if isinstance(r,float):\n",
    "    area = 22/7 * r * r\n",
    "    peri = 2* 22/7 * r\n",
    "    print(\"area = \",area)\n",
    "    print(\"peri = \",peri)\n",
    "print(\"its over\")"
   ]
  },
  {
   "cell_type": "code",
   "execution_count": 7,
   "metadata": {},
   "outputs": [
    {
     "name": "stdout",
     "output_type": "stream",
     "text": [
      "enter side of square : 77\n",
      "peri =  308\n",
      "its over \n"
     ]
    }
   ],
   "source": [
    "# if and else\n",
    "# wap find area when side of square is even other wise find the perimter\n",
    "\n",
    "side = int(input(\"enter side of square : \"))\n",
    "if(side % 2 == 0):\n",
    "    area = side ** 2\n",
    "    print(\"area = \",area)\n",
    "else:\n",
    "    peri =  4* side\n",
    "    print(\"peri = \",peri)\n",
    "print(\"its over \")"
   ]
  },
  {
   "cell_type": "code",
   "execution_count": null,
   "metadata": {},
   "outputs": [],
   "source": [
    "# wap give  the full details of you when you have more 10 years \n",
    "# other wise give your father full details "
   ]
  },
  {
   "cell_type": "code",
   "execution_count": 5,
   "metadata": {},
   "outputs": [
    {
     "name": "stdout",
     "output_type": "stream",
     "text": [
      "enter no of years of exp : -12\n",
      "please enter proper input\n"
     ]
    }
   ],
   "source": [
    "# elif ladder\n",
    "'''\n",
    "wap find the salary based on experience \n",
    "'''\n",
    "exp = int(input(\"enter no of years of exp : \"))\n",
    "if(exp >= 0  and exp <= 1):\n",
    "    print(\"salary :  20,000/- per month\")\n",
    "elif(exp > 1 and exp <= 2):\n",
    "    print(\"salary : 24,000/- per month\")\n",
    "elif(exp > 2 and exp <= 3):\n",
    "    print(\"salary :28800/- per month\")\n",
    "elif(exp >3 and exp <= 5):\n",
    "    print(\"salary : 50,000/ per month\")\n",
    "elif(exp > 5):\n",
    "    print(\"salary  : 1 lac per month\")\n",
    "else:\n",
    "    print(\"please enter proper input\")"
   ]
  },
  {
   "cell_type": "code",
   "execution_count": null,
   "metadata": {},
   "outputs": [],
   "source": [
    "# wap for gradinng system based student percentage"
   ]
  },
  {
   "cell_type": "code",
   "execution_count": 9,
   "metadata": {},
   "outputs": [
    {
     "name": "stdout",
     "output_type": "stream",
     "text": [
      "enter  : 75\n",
      "enter  : 45\n",
      "enter  : 89\n",
      "big =  89\n"
     ]
    }
   ],
   "source": [
    "# nested if \n",
    "\n",
    "'''\n",
    "Any conditional stateemnt havning another conditional statements\n",
    "\n",
    "'''\n",
    "\n",
    "# wap find the biggest number from 3 number\n",
    "a = int(input(\"enter  : \"))\n",
    "b = int(input(\"enter  : \"))\n",
    "c = int(input(\"enter  : \"))\n",
    "if( a > b):\n",
    "    big = a\n",
    "    if(a < c):\n",
    "        big = c\n",
    "else:\n",
    "    big = b\n",
    "    if(b < c):\n",
    "        big = c\n",
    "print(\"big = \",big)"
   ]
  },
  {
   "cell_type": "code",
   "execution_count": null,
   "metadata": {},
   "outputs": [],
   "source": [
    "# wap finnd the smallest number"
   ]
  },
  {
   "cell_type": "code",
   "execution_count": null,
   "metadata": {},
   "outputs": [],
   "source": [
    "# wap find given year leap year or not\n",
    "\n",
    "'''\n",
    "1904----> leap\n",
    "2000 ---> leap\n",
    "1900 ---> not leap\n",
    "1903 ---> not leap\n",
    "'''"
   ]
  },
  {
   "cell_type": "code",
   "execution_count": 3,
   "metadata": {},
   "outputs": [
    {
     "name": "stdout",
     "output_type": "stream",
     "text": [
      "enter N value  :  10\n",
      "1    2    3    4    5    6    7    8    9    10    \n",
      "condition failed \n",
      "Task over\n"
     ]
    }
   ],
   "source": [
    "#while\n",
    "# wap print 1st N natural numbers 1 to N\n",
    "N = int(input(\"enter N value  :  \"))\n",
    "i = 1\n",
    "while(i <= N):\n",
    "    print(i, end = \"    \")\n",
    "    i = i +1\n",
    "else:\n",
    "    print(\"\\ncondition failed \")\n",
    "print(\"Task over\")"
   ]
  },
  {
   "cell_type": "code",
   "execution_count": 4,
   "metadata": {},
   "outputs": [
    {
     "name": "stdout",
     "output_type": "stream",
     "text": [
      "enter N value  :  10\n",
      "sum =  55\n",
      "Task over\n"
     ]
    }
   ],
   "source": [
    "#while\n",
    "# wap print sum of1st N natural numbers \n",
    "N = int(input(\"enter N value  :  \"))\n",
    "i = 1\n",
    "sum =0\n",
    "while(i <= N):\n",
    "    sum = sum +i\n",
    "    i = i +1\n",
    "else:\n",
    "    print(\"sum = \",sum)\n",
    "print(\"Task over\")"
   ]
  },
  {
   "cell_type": "code",
   "execution_count": 6,
   "metadata": {},
   "outputs": [
    {
     "name": "stdout",
     "output_type": "stream",
     "text": [
      "enter N value  :  3\n",
      "sum =  14\n",
      "Task over\n"
     ]
    }
   ],
   "source": [
    "#while\n",
    "# wap print sum of squares of 1st N natural numbers \n",
    "N = int(input(\"enter N value  :  \"))\n",
    "i = 1\n",
    "sum =0\n",
    "while(i <= N):\n",
    "    sum = sum + i**2\n",
    "    i = i +1\n",
    "else:\n",
    "    print(\"sum = \",sum)\n",
    "print(\"Task over\")"
   ]
  },
  {
   "cell_type": "code",
   "execution_count": 7,
   "metadata": {},
   "outputs": [
    {
     "name": "stdout",
     "output_type": "stream",
     "text": [
      "enter N value  :  3\n",
      "sum =  36\n",
      "Task over\n"
     ]
    }
   ],
   "source": [
    "#while\n",
    "# wap print sum of cubes of 1st N natural numbers \n",
    "N = int(input(\"enter N value  :  \"))\n",
    "i = 1\n",
    "sum =0\n",
    "while(i <= N):\n",
    "    sum = sum + i** 3\n",
    "    i = i +1\n",
    "else:\n",
    "    print(\"sum = \",sum)\n",
    "print(\"Task over\")"
   ]
  },
  {
   "cell_type": "code",
   "execution_count": null,
   "metadata": {},
   "outputs": [],
   "source": [
    "# wap find the dirrence between sum of sqaures of 1st N narutal nubers\n",
    "# and sum of 1st n natural number\n",
    "# 3\n",
    "# (1^2 + 2^2 + 3^2 )-(1+2+3)---> 14 - 6--->8"
   ]
  },
  {
   "cell_type": "code",
   "execution_count": 10,
   "metadata": {},
   "outputs": [
    {
     "name": "stdout",
     "output_type": "stream",
     "text": [
      "enter N 10\n",
      "1    2    5    10    \n",
      " No of factors =  4\n",
      "\n",
      " sum of factors =  18\n",
      "Task Done\n"
     ]
    }
   ],
   "source": [
    "# wap find no of factors any numbers and sum of factors \n",
    "# 10 ---> 1   2    5    10  -----> 4\n",
    "N = int(input(\"enter N \"))\n",
    "i =1\n",
    "sum = 0\n",
    "count = 0\n",
    "while(i <=  N):\n",
    "    if(N % i == 0 ):\n",
    "        print(i,end = \"    \")\n",
    "        sum = sum + i\n",
    "        count = count+1\n",
    "    i = i+1\n",
    "else: \n",
    "    print(\"\\n No of factors = \",count)\n",
    "    print(\"\\n sum of factors = \",sum)\n",
    "print(\"Task Done\")\n",
    "    "
   ]
  },
  {
   "cell_type": "code",
   "execution_count": null,
   "metadata": {},
   "outputs": [],
   "source": [
    "# wap find given number is prime number or not "
   ]
  },
  {
   "cell_type": "code",
   "execution_count": null,
   "metadata": {},
   "outputs": [],
   "source": [
    "# wap find the factorial of any number"
   ]
  },
  {
   "cell_type": "code",
   "execution_count": 11,
   "metadata": {},
   "outputs": [
    {
     "name": "stdout",
     "output_type": "stream",
     "text": [
      "enter : 123\n",
      "count =  3\n"
     ]
    }
   ],
   "source": [
    "# wap find the no of digits in a number\n",
    "N = int(input(\"enter : \"))\n",
    "c = 0 \n",
    "while(N != 0 ):\n",
    "    c = c+1\n",
    "    N =N //10\n",
    "else:\n",
    "    print(\"count = \",c)"
   ]
  },
  {
   "cell_type": "code",
   "execution_count": null,
   "metadata": {},
   "outputs": [],
   "source": [
    "# Wap find the sum of digits of a number"
   ]
  },
  {
   "cell_type": "code",
   "execution_count": null,
   "metadata": {},
   "outputs": [],
   "source": [
    "# wap find the reverse of a number ---> 123---> 321"
   ]
  }
 ],
 "metadata": {
  "kernelspec": {
   "display_name": "Python 3",
   "language": "python",
   "name": "python3"
  },
  "language_info": {
   "codemirror_mode": {
    "name": "ipython",
    "version": 3
   },
   "file_extension": ".py",
   "mimetype": "text/x-python",
   "name": "python",
   "nbconvert_exporter": "python",
   "pygments_lexer": "ipython3",
   "version": "3.7.3"
  }
 },
 "nbformat": 4,
 "nbformat_minor": 2
}
